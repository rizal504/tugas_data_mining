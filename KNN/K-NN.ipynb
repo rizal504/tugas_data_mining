{
 "cells": [
  {
   "cell_type": "markdown",
   "id": "5c712e81",
   "metadata": {},
   "source": [
    "Nama : Syaiful Rizal Sidiq\n",
    "\n",
    "NIM    : A11.2021.13849"
   ]
  },
  {
   "cell_type": "markdown",
   "id": "e1ecb00e",
   "metadata": {},
   "source": [
    "## Mengimport Library"
   ]
  },
  {
   "cell_type": "markdown",
   "id": "0c81408d",
   "metadata": {},
   "source": [
    "\"numpy\" berguna memudahkan kita melakukan perhitungan saintifik seperti matriks, aljabar, statistik, dan sebagainya.\n",
    "\n",
    "\"matpotlib.pyplot\" berguna untuk memvisualisaikan data melalui grafik atau diagram\n",
    "\n",
    "\"pandas\" berguna untuk memproses data, mulai pembersihan data, manipulasi data, hingga melakukan analisis data."
   ]
  },
  {
   "cell_type": "code",
   "execution_count": 7,
   "id": "52a67f8f",
   "metadata": {},
   "outputs": [],
   "source": [
    "import numpy as np\n",
    "import matplotlib.pyplot as plt\n",
    "import pandas as pd"
   ]
  },
  {
   "cell_type": "markdown",
   "id": "1a6092d8",
   "metadata": {},
   "source": [
    "## Import Dataset "
   ]
  },
  {
   "cell_type": "code",
   "execution_count": 10,
   "id": "e68821fa",
   "metadata": {},
   "outputs": [
    {
     "data": {
      "text/html": [
       "<div>\n",
       "<style scoped>\n",
       "    .dataframe tbody tr th:only-of-type {\n",
       "        vertical-align: middle;\n",
       "    }\n",
       "\n",
       "    .dataframe tbody tr th {\n",
       "        vertical-align: top;\n",
       "    }\n",
       "\n",
       "    .dataframe thead th {\n",
       "        text-align: right;\n",
       "    }\n",
       "</style>\n",
       "<table border=\"1\" class=\"dataframe\">\n",
       "  <thead>\n",
       "    <tr style=\"text-align: right;\">\n",
       "      <th></th>\n",
       "      <th>User ID</th>\n",
       "      <th>Gender</th>\n",
       "      <th>Age</th>\n",
       "      <th>AnnualSalary</th>\n",
       "      <th>Purchased</th>\n",
       "    </tr>\n",
       "  </thead>\n",
       "  <tbody>\n",
       "    <tr>\n",
       "      <th>0</th>\n",
       "      <td>385</td>\n",
       "      <td>Male</td>\n",
       "      <td>35</td>\n",
       "      <td>20000</td>\n",
       "      <td>0</td>\n",
       "    </tr>\n",
       "    <tr>\n",
       "      <th>1</th>\n",
       "      <td>681</td>\n",
       "      <td>Male</td>\n",
       "      <td>40</td>\n",
       "      <td>43500</td>\n",
       "      <td>0</td>\n",
       "    </tr>\n",
       "    <tr>\n",
       "      <th>2</th>\n",
       "      <td>353</td>\n",
       "      <td>Male</td>\n",
       "      <td>49</td>\n",
       "      <td>74000</td>\n",
       "      <td>0</td>\n",
       "    </tr>\n",
       "    <tr>\n",
       "      <th>3</th>\n",
       "      <td>895</td>\n",
       "      <td>Male</td>\n",
       "      <td>40</td>\n",
       "      <td>107500</td>\n",
       "      <td>1</td>\n",
       "    </tr>\n",
       "    <tr>\n",
       "      <th>4</th>\n",
       "      <td>661</td>\n",
       "      <td>Male</td>\n",
       "      <td>25</td>\n",
       "      <td>79000</td>\n",
       "      <td>0</td>\n",
       "    </tr>\n",
       "  </tbody>\n",
       "</table>\n",
       "</div>"
      ],
      "text/plain": [
       "   User ID Gender  Age  AnnualSalary  Purchased\n",
       "0      385   Male   35         20000          0\n",
       "1      681   Male   40         43500          0\n",
       "2      353   Male   49         74000          0\n",
       "3      895   Male   40        107500          1\n",
       "4      661   Male   25         79000          0"
      ]
     },
     "execution_count": 10,
     "metadata": {},
     "output_type": "execute_result"
    }
   ],
   "source": [
    "df = pd.read_csv('car_data.csv')\n",
    "df.head()"
   ]
  },
  {
   "cell_type": "code",
   "execution_count": 11,
   "id": "f289d4df",
   "metadata": {},
   "outputs": [],
   "source": [
    "x = df.iloc[:, [2,3]].values\n",
    "y = df.iloc[:, -1].values"
   ]
  },
  {
   "cell_type": "code",
   "execution_count": 12,
   "id": "3bd8dcd6",
   "metadata": {},
   "outputs": [
    {
     "name": "stdout",
     "output_type": "stream",
     "text": [
      "[[    35  20000]\n",
      " [    40  43500]\n",
      " [    49  74000]\n",
      " ...\n",
      " [    28 138500]\n",
      " [    48 134000]\n",
      " [    44  73500]]\n"
     ]
    }
   ],
   "source": [
    "print (x)"
   ]
  },
  {
   "cell_type": "code",
   "execution_count": 13,
   "id": "13d8bb00",
   "metadata": {},
   "outputs": [
    {
     "name": "stdout",
     "output_type": "stream",
     "text": [
      "[0 0 0 1 0 1 1 0 0 0 0 1 0 0 1 1 0 0 1 1 0 1 1 0 0 0 1 1 1 1 1 0 0 0 1 0 0\n",
      " 1 1 0 0 1 0 0 1 0 0 1 1 0 1 1 1 0 1 1 1 0 0 1 1 1 1 0 0 0 0 1 0 0 0 1 0 0\n",
      " 1 1 0 0 1 1 1 1 1 0 1 1 1 0 0 0 0 1 0 0 1 1 1 0 0 0 0 1 0 0 0 1 0 1 0 1 1\n",
      " 0 0 0 1 0 1 1 0 0 1 1 0 0 0 1 0 0 1 1 0 0 1 0 0 0 0 1 0 1 0 0 1 0 0 0 0 0\n",
      " 0 0 0 0 0 1 1 1 0 1 0 0 1 1 1 0 1 1 0 0 1 0 0 1 0 0 1 0 1 1 1 1 1 0 0 1 1\n",
      " 1 1 0 1 1 0 0 0 0 0 0 0 0 0 1 0 0 0 0 0 1 1 0 1 1 1 1 0 0 0 0 1 1 0 0 0 0\n",
      " 0 0 0 0 1 1 0 0 0 0 1 0 1 1 1 1 0 0 1 1 1 0 0 1 0 0 0 1 1 1 0 0 1 0 1 0 0\n",
      " 0 0 0 0 1 1 1 0 1 0 0 0 0 1 0 0 0 0 0 0 1 0 0 1 1 1 0 1 0 1 0 0 1 1 0 0 0\n",
      " 0 1 1 1 1 0 0 0 1 1 1 0 0 0 0 1 1 0 1 1 0 1 0 0 0 1 0 1 0 0 0 0 0 0 0 1 0\n",
      " 0 1 0 1 0 1 0 0 0 1 0 0 1 0 1 1 1 1 1 0 0 0 1 0 1 1 0 1 0 0 1 1 1 0 0 0 0\n",
      " 1 1 0 0 0 0 1 0 1 1 0 1 0 0 0 1 1 0 0 1 0 0 1 1 0 0 1 0 0 1 0 0 0 1 0 0 0\n",
      " 0 0 1 1 0 1 0 0 1 1 1 0 0 0 0 0 0 1 1 0 0 0 0 0 1 0 0 0 1 1 0 0 0 1 0 0 1\n",
      " 0 1 0 0 0 0 1 1 0 1 0 0 1 1 1 0 0 0 0 1 0 0 0 0 1 1 0 1 0 1 1 1 0 0 1 0 1\n",
      " 0 0 0 0 1 0 1 1 1 0 0 1 0 1 0 1 1 1 1 0 0 0 0 0 0 1 0 0 1 1 0 1 0 1 1 1 0\n",
      " 1 0 1 0 0 0 0 1 0 0 0 0 1 0 1 1 0 1 1 1 0 0 0 1 0 0 1 0 0 1 0 0 1 0 1 0 0\n",
      " 0 1 0 0 0 0 1 0 0 1 0 1 0 1 0 1 1 0 0 0 0 0 1 1 1 0 0 1 0 0 1 0 0 0 0 0 0\n",
      " 0 0 0 0 0 0 0 0 0 1 0 0 0 0 1 0 0 0 0 1 1 0 0 0 1 1 1 0 0 0 1 1 0 0 1 0 0\n",
      " 1 0 0 0 0 0 1 0 0 1 0 1 0 1 1 1 1 0 0 0 0 0 1 1 0 0 1 1 0 1 1 1 1 0 0 0 1\n",
      " 0 1 0 0 1 1 0 1 0 0 0 1 1 0 0 0 0 0 0 0 0 0 0 0 1 0 0 0 1 1 0 0 0 1 1 0 0\n",
      " 0 0 0 0 0 0 0 0 1 0 1 0 0 1 1 0 1 1 0 1 0 1 1 0 1 0 0 0 0 1 0 0 1 0 1 0 0\n",
      " 0 0 1 1 1 1 0 0 1 1 0 0 0 1 0 0 0 0 0 0 1 1 0 1 0 1 0 0 1 1 0 0 0 1 0 1 0\n",
      " 1 1 1 0 0 0 1 0 0 1 1 1 1 0 1 0 0 1 1 1 0 0 1 1 0 1 0 0 1 0 0 0 0 0 0 0 1\n",
      " 0 1 1 0 1 0 1 1 1 1 1 0 0 1 0 0 0 0 0 0 1 0 1 0 0 0 0 0 1 0 1 0 0 1 0 0 1\n",
      " 0 0 0 0 1 0 1 0 0 0 1 0 1 1 1 0 0 0 0 1 0 0 1 1 1 0 0 0 1 0 1 1 1 1 0 1 0\n",
      " 0 1 1 1 0 1 1 1 1 1 0 1 0 0 0 0 0 1 0 1 0 0 1 1 0 0 0 0 0 1 0 1 0 1 0 1 0\n",
      " 0 0 0 0 0 1 0 1 0 1 0 1 0 1 1 0 0 1 0 0 1 0 1 0 0 0 0 1 1 1 1 0 0 0 1 1 0\n",
      " 0 0 0 1 1 0 0 1 1 0 1 0 0 0 0 0 1 0 1 0 0 0 0 0 1 0 1 0 0 0 0 0 1 0 0 1 1\n",
      " 0]\n"
     ]
    }
   ],
   "source": [
    "print(y)"
   ]
  },
  {
   "cell_type": "markdown",
   "id": "85ad1393",
   "metadata": {},
   "source": [
    "## Membagi dataset ke dalam Training set dan Test set"
   ]
  },
  {
   "cell_type": "code",
   "execution_count": 17,
   "id": "001c3580",
   "metadata": {},
   "outputs": [],
   "source": [
    "from sklearn.model_selection import train_test_split\n",
    "x_train, x_test, y_train, y_test = train_test_split(x,y, test_size = 0.25, random_state = 0 )"
   ]
  },
  {
   "cell_type": "code",
   "execution_count": 18,
   "id": "52ffc5a2",
   "metadata": {},
   "outputs": [
    {
     "name": "stdout",
     "output_type": "stream",
     "text": [
      "[[    20  20500]\n",
      " [    50  25500]\n",
      " [    51 136500]\n",
      " ...\n",
      " [    61  84500]\n",
      " [    30  62000]\n",
      " [    19  45500]]\n"
     ]
    }
   ],
   "source": [
    "print (x_train)"
   ]
  },
  {
   "cell_type": "code",
   "execution_count": 19,
   "id": "d72d77ea",
   "metadata": {},
   "outputs": [
    {
     "data": {
      "text/plain": [
       "750"
      ]
     },
     "execution_count": 19,
     "metadata": {},
     "output_type": "execute_result"
    }
   ],
   "source": [
    "len(x_train)"
   ]
  },
  {
   "cell_type": "code",
   "execution_count": 20,
   "id": "7fd00c31",
   "metadata": {},
   "outputs": [
    {
     "data": {
      "text/plain": [
       "1000"
      ]
     },
     "execution_count": 20,
     "metadata": {},
     "output_type": "execute_result"
    }
   ],
   "source": [
    "len(x)"
   ]
  },
  {
   "cell_type": "code",
   "execution_count": 21,
   "id": "4c6cf6bb",
   "metadata": {},
   "outputs": [
    {
     "data": {
      "text/plain": [
       "250"
      ]
     },
     "execution_count": 21,
     "metadata": {},
     "output_type": "execute_result"
    }
   ],
   "source": [
    "len(x_test)"
   ]
  },
  {
   "cell_type": "code",
   "execution_count": 22,
   "id": "f783be77",
   "metadata": {},
   "outputs": [
    {
     "data": {
      "text/plain": [
       "1000"
      ]
     },
     "execution_count": 22,
     "metadata": {},
     "output_type": "execute_result"
    }
   ],
   "source": [
    "len(y)"
   ]
  },
  {
   "cell_type": "code",
   "execution_count": 23,
   "id": "3f568730",
   "metadata": {},
   "outputs": [
    {
     "data": {
      "text/plain": [
       "250"
      ]
     },
     "execution_count": 23,
     "metadata": {},
     "output_type": "execute_result"
    }
   ],
   "source": [
    "len(y_test)"
   ]
  },
  {
   "cell_type": "code",
   "execution_count": 24,
   "id": "d289f968",
   "metadata": {
    "scrolled": true
   },
   "outputs": [
    {
     "data": {
      "text/plain": [
       "750"
      ]
     },
     "execution_count": 24,
     "metadata": {},
     "output_type": "execute_result"
    }
   ],
   "source": [
    "len(y_train)"
   ]
  },
  {
   "cell_type": "markdown",
   "id": "b99cc89f",
   "metadata": {},
   "source": [
    "## Featuring Scaling"
   ]
  },
  {
   "cell_type": "code",
   "execution_count": 25,
   "id": "caf6c0f7",
   "metadata": {},
   "outputs": [],
   "source": [
    "from sklearn.preprocessing import StandardScaler\n",
    "sc = StandardScaler()\n",
    "x_train = sc.fit_transform(x_train)\n",
    "x_test = sc.transform(x_test)"
   ]
  },
  {
   "cell_type": "code",
   "execution_count": 26,
   "id": "1dfce9cd",
   "metadata": {},
   "outputs": [
    {
     "name": "stdout",
     "output_type": "stream",
     "text": [
      "[[-1.92084369 -1.50249061]\n",
      " [ 0.91133082 -1.35965201]\n",
      " [ 1.00573664  1.81136479]\n",
      " ...\n",
      " [ 1.94979481  0.3258434 ]\n",
      " [-0.97678552 -0.31693027]\n",
      " [-2.01524951 -0.78829764]]\n"
     ]
    }
   ],
   "source": [
    "print(x_train)"
   ]
  },
  {
   "cell_type": "code",
   "execution_count": 27,
   "id": "7e10f32c",
   "metadata": {
    "scrolled": false
   },
   "outputs": [
    {
     "name": "stdout",
     "output_type": "stream",
     "text": [
      "[[ 1.28895409  1.81136479]\n",
      " [ 0.06167847 -0.15980782]\n",
      " [ 0.91133082 -1.24538114]\n",
      " [-1.92084369  0.36869498]\n",
      " [-1.26000297 -1.1882457 ]\n",
      " [-0.41035062 -0.70259448]\n",
      " [-0.03272735  0.69722375]\n",
      " [ 1.00573664 -0.78829764]\n",
      " [ 1.3833599  -0.04553694]\n",
      " [-1.16559715  0.468682  ]\n",
      " [ 0.62811337  0.21157253]\n",
      " [-2.01524951 -1.48820675]\n",
      " [-0.50475643 -0.81686535]\n",
      " [-1.26000297 -1.20252956]\n",
      " [ 0.53370755 -1.13111026]\n",
      " [ 0.816925   -1.05969097]\n",
      " [-0.69356807 -0.37406571]\n",
      " [ 1.10014245 -0.15980782]\n",
      " [ 0.15608428  0.9971848 ]\n",
      " [-0.59916225 -1.15967798]\n",
      " [-0.78797389 -0.15980782]\n",
      " [-0.22153898 -0.41691729]\n",
      " [-1.26000297  0.26870796]\n",
      " [ 1.00573664  0.72579147]\n",
      " [ 1.3833599   1.92563566]\n",
      " [ 0.06167847 -0.01696923]\n",
      " [-0.3159448   0.05445007]\n",
      " [-0.12713317 -0.88828465]\n",
      " [-0.22153898  2.06847426]\n",
      " [-0.03272735 -0.84543307]\n",
      " [-0.03272735  0.21157253]\n",
      " [ 0.06167847  0.01159849]\n",
      " [-1.07119134  0.38297884]\n",
      " [-1.26000297  0.42583042]\n",
      " [-1.4488146   0.19728867]\n",
      " [-0.3159448  -0.60260746]\n",
      " [-1.35440879  0.21157253]\n",
      " [-0.59916225 -0.03125308]\n",
      " [-0.22153898 -0.0598208 ]\n",
      " [ 1.66657735  1.55425532]\n",
      " [-0.41035062  0.09730165]\n",
      " [ 0.62811337 -1.41678745]\n",
      " [ 1.28895409 -1.07397483]\n",
      " [-0.22153898 -0.34549799]\n",
      " [ 1.00573664 -1.01683939]\n",
      " [ 0.15608428  0.12586937]\n",
      " [-0.97678552 -1.65961306]\n",
      " [-0.03272735  0.05445007]\n",
      " [-0.8823797  -1.55962605]\n",
      " [-2.10965532  0.2544241 ]\n",
      " [ 1.57217154  1.75422935]\n",
      " [-0.59916225 -0.81686535]\n",
      " [ 0.15608428 -0.23122712]\n",
      " [-0.22153898 -0.23122712]\n",
      " [ 0.06167847 -0.55975588]\n",
      " [ 0.72251919  0.65437217]\n",
      " [-0.59916225  2.21131285]\n",
      " [ 0.15608428 -0.57403974]\n",
      " [-0.8823797  -0.0598208 ]\n",
      " [-1.92084369 -1.05969097]\n",
      " [ 0.62811337  0.69722375]\n",
      " [ 0.72251919 -0.5883236 ]\n",
      " [ 1.57217154 -0.01696923]\n",
      " [-0.22153898 -0.53118817]\n",
      " [-1.35440879  0.19728867]\n",
      " [-0.12713317 -0.30264641]\n",
      " [ 0.15608428  1.81136479]\n",
      " [-0.50475643  0.01159849]\n",
      " [-1.26000297 -1.04540711]\n",
      " [ 0.06167847 -0.70259448]\n",
      " [ 0.06167847 -0.41691729]\n",
      " [ 0.816925    1.93991952]\n",
      " [-1.4488146  -0.38834957]\n",
      " [-1.16559715 -0.38834957]\n",
      " [-0.22153898  0.06873393]\n",
      " [ 1.47776572  0.3258434 ]\n",
      " [ 1.85538899 -0.88828465]\n",
      " [ 0.816925    0.69722375]\n",
      " [ 1.19454827 -0.03125308]\n",
      " [-1.73203205  0.01159849]\n",
      " [-0.03272735 -0.37406571]\n",
      " [-0.3159448   1.55425532]\n",
      " [ 1.28895409  0.88291392]\n",
      " [-0.12713317 -0.35978185]\n",
      " [-0.12713317 -0.30264641]\n",
      " [-0.50475643 -0.37406571]\n",
      " [ 2.04420062  0.49724972]\n",
      " [ 0.53370755 -1.45963903]\n",
      " [-0.22153898  0.61152059]\n",
      " [ 0.62811337 -0.68831062]\n",
      " [ 0.2504901   0.12586937]\n",
      " [ 0.06167847  1.01146866]\n",
      " [ 1.76098317  0.84006234]\n",
      " [-0.12713317  0.05445007]\n",
      " [ 0.53370755  1.18287497]\n",
      " [ 1.19454827 -0.95970395]\n",
      " [ 1.00573664  0.55438515]\n",
      " [-2.10965532 -0.83114921]\n",
      " [-1.54322042 -1.47392289]\n",
      " [ 0.15608428  1.01146866]\n",
      " [ 0.34489592 -0.30264641]\n",
      " [-0.69356807  1.29714585]\n",
      " [-0.50475643 -1.45963903]\n",
      " [-0.50475643 -1.3310843 ]\n",
      " [ 0.62811337 -0.63117518]\n",
      " [-0.03272735  0.26870796]\n",
      " [-0.3159448   0.09730165]\n",
      " [ 0.62811337 -1.51677447]\n",
      " [-0.22153898 -1.10254254]\n",
      " [-1.26000297 -1.61676148]\n",
      " [-1.35440879 -1.60247763]\n",
      " [ 0.43930173 -0.50262045]\n",
      " [-2.01524951 -0.10267238]\n",
      " [-1.92084369 -1.3310843 ]\n",
      " [-1.82643787  0.29727568]\n",
      " [ 1.3833599   0.55438515]\n",
      " [-1.92084369 -1.44535517]\n",
      " [-2.01524951 -0.08838852]\n",
      " [-0.03272735  1.43998444]\n",
      " [-0.41035062 -0.28836255]\n",
      " [-1.26000297  0.35441112]\n",
      " [-0.3159448  -1.10254254]\n",
      " [-0.03272735 -0.01696923]\n",
      " [ 0.15608428 -0.54547203]\n",
      " [ 0.91133082  1.04003638]\n",
      " [-0.12713317  1.55425532]\n",
      " [ 0.91133082 -0.83114921]\n",
      " [ 1.66657735  0.06873393]\n",
      " [ 1.47776572  2.06847426]\n",
      " [-0.8823797   0.24014025]\n",
      " [ 0.2504901   0.04016621]\n",
      " [-1.16559715  0.34012726]\n",
      " [-1.26000297  0.48296586]\n",
      " [ 1.85538899  1.66852619]\n",
      " [-1.16559715  0.69722375]\n",
      " [-1.26000297 -0.81686535]\n",
      " [-1.26000297  1.82564865]\n",
      " [-0.97678552  0.3258434 ]\n",
      " [ 0.62811337  0.29727568]\n",
      " [-1.63762624 -1.27394886]\n",
      " [ 0.91133082  0.42583042]\n",
      " [-0.3159448  -0.45976887]\n",
      " [ 1.47776572 -0.93113623]\n",
      " [ 1.66657735 -1.00255553]\n",
      " [ 0.15608428  0.24014025]\n",
      " [ 2.13860644 -1.04540711]\n",
      " [-0.22153898 -0.34549799]\n",
      " [-1.63762624 -1.28823272]\n",
      " [ 0.816925   -0.84543307]\n",
      " [ 0.34489592  1.15430725]\n",
      " [-0.22153898  0.19728867]\n",
      " [ 0.43930173 -1.34536816]\n",
      " [ 1.10014245  2.12560969]\n",
      " [-0.22153898  0.09730165]\n",
      " [-1.54322042 -1.17396184]\n",
      " [-1.4488146  -0.47405273]\n",
      " [ 1.10014245  0.48296586]\n",
      " [-1.07119134 -0.85971693]\n",
      " [-0.3159448  -1.14539412]\n",
      " [-0.97678552 -1.24538114]\n",
      " [-0.50475643  0.9971848 ]\n",
      " [ 0.72251919 -1.14539412]\n",
      " [-1.35440879  0.44011428]\n",
      " [ 0.2504901   2.21131285]\n",
      " [-0.41035062 -0.33121413]\n",
      " [-0.03272735  1.89706794]\n",
      " [-0.03272735 -0.84543307]\n",
      " [ 0.816925   -1.10254254]\n",
      " [ 1.00573664  0.468682  ]\n",
      " [-0.41035062 -0.18837554]\n",
      " [ 0.72251919  1.85421636]\n",
      " [ 1.10014245 -1.21681342]\n",
      " [-0.03272735  0.04016621]\n",
      " [ 0.43930173 -0.01696923]\n",
      " [ 1.47776572  1.5256876 ]\n",
      " [-1.26000297  0.41154656]\n",
      " [ 0.15608428  0.88291392]\n",
      " [-0.12713317 -0.0598208 ]\n",
      " [ 0.43930173  0.95433322]\n",
      " [-1.73203205  0.468682  ]\n",
      " [ 0.06167847  0.16872095]\n",
      " [ 0.34489592  0.01159849]\n",
      " [-1.73203205 -0.28836255]\n",
      " [ 1.85538899 -1.1168264 ]\n",
      " [-1.26000297  0.31155954]\n",
      " [-1.07119134 -1.28823272]\n",
      " [ 0.53370755  1.25429427]\n",
      " [ 0.53370755 -1.43107131]\n",
      " [ 1.66657735  2.02562268]\n",
      " [-0.50475643  0.42583042]\n",
      " [ 1.76098317  1.62567461]\n",
      " [-1.26000297 -0.54547203]\n",
      " [ 0.2504901   1.11145567]\n",
      " [ 0.62811337 -1.13111026]\n",
      " [ 1.3833599   1.04003638]\n",
      " [-0.50475643 -0.51690431]\n",
      " [-0.12713317  1.58282303]\n",
      " [-1.63762624 -0.24551098]\n",
      " [-0.03272735  0.21157253]\n",
      " [-0.12713317 -0.30264641]\n",
      " [-1.35440879  0.31155954]\n",
      " [-0.03272735 -0.45976887]\n",
      " [-0.69356807 -1.53105833]\n",
      " [-0.78797389 -0.38834957]\n",
      " [-0.3159448  -0.55975588]\n",
      " [ 0.43930173  0.24014025]\n",
      " [ 0.72251919  1.93991952]\n",
      " [ 1.76098317 -1.259665  ]\n",
      " [-0.03272735 -0.01696923]\n",
      " [-0.50475643 -0.45976887]\n",
      " [-1.07119134  0.28299182]\n",
      " [-0.41035062  1.48283602]\n",
      " [-0.12713317  1.18287497]\n",
      " [ 1.57217154  1.39713286]\n",
      " [ 0.816925   -1.1882457 ]\n",
      " [-1.54322042 -0.15980782]\n",
      " [-0.97678552  0.45439814]\n",
      " [-0.3159448   0.16872095]\n",
      " [-1.82643787 -1.01683939]\n",
      " [ 1.28895409  0.9257655 ]\n",
      " [-0.03272735  0.64008831]\n",
      " [-1.82643787 -1.63104534]\n",
      " [-1.54322042  0.29727568]\n",
      " [-1.82643787 -0.03125308]\n",
      " [-0.03272735 -0.23122712]\n",
      " [ 0.2504901  -0.53118817]\n",
      " [ 0.34489592  0.04016621]\n",
      " [-1.35440879  0.52581743]\n",
      " [ 0.53370755  0.16872095]\n",
      " [ 0.91133082 -1.05969097]\n",
      " [-1.26000297 -0.43120115]\n",
      " [-1.92084369  0.2544241 ]\n",
      " [ 2.13860644 -0.81686535]\n",
      " [ 0.91133082  0.41154656]\n",
      " [ 0.816925    0.42583042]\n",
      " [ 0.91133082 -0.55975588]\n",
      " [ 0.91133082 -0.78829764]\n",
      " [-2.01524951 -1.54534219]\n",
      " [-0.59916225  1.19715883]\n",
      " [-0.22153898 -0.38834957]\n",
      " [ 1.76098317 -1.38821973]\n",
      " [-1.16559715 -1.03112325]\n",
      " [ 1.76098317  0.28299182]\n",
      " [ 0.91133082 -0.5883236 ]\n",
      " [-0.97678552 -0.70259448]\n",
      " [-2.01524951 -1.34536816]\n",
      " [ 0.06167847 -0.5883236 ]\n",
      " [ 0.816925    0.02588235]\n",
      " [ 0.34489592  1.63995847]\n",
      " [-0.50475643  0.51153358]]\n"
     ]
    }
   ],
   "source": [
    "print (x_test)"
   ]
  },
  {
   "cell_type": "markdown",
   "id": "703444a0",
   "metadata": {},
   "source": [
    "## Training model K-NN pada Training set"
   ]
  },
  {
   "cell_type": "code",
   "execution_count": 28,
   "id": "a2fec855",
   "metadata": {},
   "outputs": [
    {
     "data": {
      "text/plain": [
       "KNeighborsClassifier()"
      ]
     },
     "execution_count": 28,
     "metadata": {},
     "output_type": "execute_result"
    }
   ],
   "source": [
    "from sklearn.neighbors import KNeighborsClassifier\n",
    "classifier = KNeighborsClassifier(n_neighbors= 5, metric= 'minkowski', p=2)\n",
    "classifier.fit(x_train, y_train)"
   ]
  },
  {
   "cell_type": "markdown",
   "id": "48b99a33",
   "metadata": {},
   "source": [
    "## Membuat variabel prediksi dan hasil tes set"
   ]
  },
  {
   "cell_type": "code",
   "execution_count": 29,
   "id": "efb69c1e",
   "metadata": {
    "scrolled": true
   },
   "outputs": [
    {
     "name": "stderr",
     "output_type": "stream",
     "text": [
      "C:\\ProgramData\\Anaconda3\\lib\\site-packages\\sklearn\\neighbors\\_classification.py:228: FutureWarning: Unlike other reduction functions (e.g. `skew`, `kurtosis`), the default behavior of `mode` typically preserves the axis it acts along. In SciPy 1.11.0, this behavior will change: the default value of `keepdims` will become False, the `axis` over which the statistic is taken will be eliminated, and the value None will no longer be accepted. Set `keepdims` to True or False to avoid this warning.\n",
      "  mode, _ = stats.mode(_y[neigh_ind, k], axis=1)\n"
     ]
    }
   ],
   "source": [
    "y_pred = classifier.predict(x_test)"
   ]
  },
  {
   "cell_type": "markdown",
   "id": "a335509e",
   "metadata": {},
   "source": [
    "## Membuat Confusion Matrix"
   ]
  },
  {
   "cell_type": "code",
   "execution_count": 30,
   "id": "ea0ca27f",
   "metadata": {},
   "outputs": [
    {
     "name": "stdout",
     "output_type": "stream",
     "text": [
      "[[142  10]\n",
      " [ 10  88]]\n"
     ]
    }
   ],
   "source": [
    "from sklearn.metrics import confusion_matrix\n",
    "cm = confusion_matrix(y_test, y_pred)\n",
    "print(cm)"
   ]
  },
  {
   "cell_type": "markdown",
   "id": "77933364",
   "metadata": {},
   "source": [
    "## Memvisualisasikan hasil Training Set"
   ]
  },
  {
   "cell_type": "code",
   "execution_count": 32,
   "id": "c15a54a1",
   "metadata": {
    "scrolled": true
   },
   "outputs": [
    {
     "name": "stderr",
     "output_type": "stream",
     "text": [
      "C:\\ProgramData\\Anaconda3\\lib\\site-packages\\sklearn\\neighbors\\_classification.py:228: FutureWarning: Unlike other reduction functions (e.g. `skew`, `kurtosis`), the default behavior of `mode` typically preserves the axis it acts along. In SciPy 1.11.0, this behavior will change: the default value of `keepdims` will become False, the `axis` over which the statistic is taken will be eliminated, and the value None will no longer be accepted. Set `keepdims` to True or False to avoid this warning.\n",
      "  mode, _ = stats.mode(_y[neigh_ind, k], axis=1)\n",
      "*c* argument looks like a single numeric RGB or RGBA sequence, which should be avoided as value-mapping will have precedence in case its length matches with *x* & *y*.  Please use the *color* keyword-argument or provide a 2D array with a single row if you intend to specify the same RGB or RGBA value for all points.\n",
      "*c* argument looks like a single numeric RGB or RGBA sequence, which should be avoided as value-mapping will have precedence in case its length matches with *x* & *y*.  Please use the *color* keyword-argument or provide a 2D array with a single row if you intend to specify the same RGB or RGBA value for all points.\n"
     ]
    },
    {
     "data": {
      "image/png": "[encoded data removed]",
      "text/plain": [
       "<Figure size 640x480 with 1 Axes>"
      ]
     },
     "metadata": {},
     "output_type": "display_data"
    }
   ],
   "source": [
    "from matplotlib.colors import ListedColormap\n",
    "x_set, y_set = x_train, y_train\n",
    "x1, x2 = np.meshgrid(np.arange(start=x_set[:, 0].min()-1, stop=x_set[:, 0].max()+1, step=0.01), \n",
    "                     np.arange(start=x_set[:, 1].min()-1,stop=x_set[:, 1].max()+1, step=0.01))\n",
    "\n",
    "plt.contourf (x1, x2, classifier.predict(np.array([x1.ravel(), x2.ravel()]).T).reshape(x1.shape),\n",
    "             alpha = 0.75, cmap = ListedColormap(('red','green')))\n",
    "plt.xlim(x1.min(), x1.max())\n",
    "plt.ylim(x2.min(), x2.max())\n",
    "for i, j in enumerate (np.unique(y_set)):\n",
    "    plt.scatter(x_set[y_set == j, 0], x_set[y_set == j, 1],\n",
    "               c = ListedColormap(('red', 'green'))(i), label = j)\n",
    "plt.title('Klasifikasi Data Dengan K-NN (Data Traning)')\n",
    "plt.xlabel('Umur')\n",
    "plt.ylabel('Estimasi Gaji')\n",
    "plt.legend()\n",
    "plt.show()\n",
    "    "
   ]
  },
  {
   "cell_type": "markdown",
   "id": "cc03db6c",
   "metadata": {},
   "source": [
    "## Memvisualisasikan hasil Test Set"
   ]
  },
  {
   "cell_type": "code",
   "execution_count": 33,
   "id": "ea8e7046",
   "metadata": {},
   "outputs": [
    {
     "name": "stderr",
     "output_type": "stream",
     "text": [
      "C:\\ProgramData\\Anaconda3\\lib\\site-packages\\sklearn\\neighbors\\_classification.py:228: FutureWarning: Unlike other reduction functions (e.g. `skew`, `kurtosis`), the default behavior of `mode` typically preserves the axis it acts along. In SciPy 1.11.0, this behavior will change: the default value of `keepdims` will become False, the `axis` over which the statistic is taken will be eliminated, and the value None will no longer be accepted. Set `keepdims` to True or False to avoid this warning.\n",
      "  mode, _ = stats.mode(_y[neigh_ind, k], axis=1)\n",
      "*c* argument looks like a single numeric RGB or RGBA sequence, which should be avoided as value-mapping will have precedence in case its length matches with *x* & *y*.  Please use the *color* keyword-argument or provide a 2D array with a single row if you intend to specify the same RGB or RGBA value for all points.\n",
      "*c* argument looks like a single numeric RGB or RGBA sequence, which should be avoided as value-mapping will have precedence in case its length matches with *x* & *y*.  Please use the *color* keyword-argument or provide a 2D array with a single row if you intend to specify the same RGB or RGBA value for all points.\n"
     ]
    },
    {
     "data": {
      "image/png": "[encoded data removed]",
      "text/plain": [
       "<Figure size 640x480 with 1 Axes>"
      ]
     },
     "metadata": {},
     "output_type": "display_data"
    }
   ],
   "source": [
    "from matplotlib.colors import ListedColormap\n",
    "X_set, y_set = x_test, y_test\n",
    "X1, X2 = np.meshgrid(np.arange(start = X_set[:, 0].min() - 1, stop = X_set[:, 0].max() + 1, step = 0.01),\n",
    "                     np.arange(start = X_set[:, 1].min() - 1, stop = X_set[:, 1].max() + 1, step = 0.01))\n",
    "plt.contourf(X1, X2, classifier.predict(np.array([X1.ravel(), X2.ravel()]).T).reshape(X1.shape),\n",
    "             alpha = 0.75, cmap = ListedColormap(('red', 'green')))\n",
    "plt.xlim(X1.min(), X1.max())\n",
    "plt.ylim(X2.min(), X2.max())\n",
    "for i, j in enumerate(np.unique(y_set)):\n",
    "    plt.scatter(X_set[y_set == j, 0], X_set[y_set == j, 1],\n",
    "                c = ListedColormap(('red', 'green'))(i), label = j)\n",
    "plt.title('Naive Bayes (Test set)')\n",
    "plt.xlabel('Age')\n",
    "plt.ylabel('Estimated Salary')\n",
    "plt.legend()\n",
    "plt.show()"
   ]
  },
  {
   "cell_type": "code",
   "execution_count": null,
   "id": "70558e36",
   "metadata": {},
   "outputs": [],
   "source": []
  }
 ],
 "metadata": {
  "kernelspec": {
   "display_name": "Python 3 (ipykernel)",
   "language": "python",
   "name": "python3"
  },
  "language_info": {
   "codemirror_mode": {
    "name": "ipython",
    "version": 3
   },
   "file_extension": ".py",
   "mimetype": "text/x-python",
   "name": "python",
   "nbconvert_exporter": "python",
   "pygments_lexer": "ipython3",
   "version": "3.9.13"
  },
  "varInspector": {
   "cols": {
    "lenName": 16,
    "lenType": 16,
    "lenVar": 40
   },
   "kernels_config": {
    "python": {
     "delete_cmd_postfix": "",
     "delete_cmd_prefix": "del ",
     "library": "var_list.py",
     "varRefreshCmd": "print(var_dic_list())"
    },
    "r": {
     "delete_cmd_postfix": ") ",
     "delete_cmd_prefix": "rm(",
     "library": "var_list.r",
     "varRefreshCmd": "cat(var_dic_list()) "
    }
   },
   "types_to_exclude": [
    "module",
    "function",
    "builtin_function_or_method",
    "instance",
    "_Feature"
   ],
   "window_display": false
  }
 },
 "nbformat": 4,
 "nbformat_minor": 5
}
