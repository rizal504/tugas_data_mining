{
 "cells": [
  {
   "cell_type": "markdown",
   "id": "83b15f23",
   "metadata": {},
   "source": [
    "#### Nama : Syaiful Rizal Sidiq | | NIM : A11.2021.13849"
   ]
  },
  {
   "cell_type": "markdown",
   "id": "19c107db",
   "metadata": {},
   "source": [
    "#### Mengimport library numpy, pandas dan scikit-learn"
   ]
  },
  {
   "cell_type": "code",
   "execution_count": 4,
   "id": "2dd3e387",
   "metadata": {},
   "outputs": [],
   "source": [
    "import numpy as np\n",
    "import pandas as pd\n",
    "from sklearn import tree"
   ]
  },
  {
   "cell_type": "markdown",
   "id": "77f85d71",
   "metadata": {},
   "source": [
    "####  Membaca Dataset Dari File ke Pandas DataFrame"
   ]
  },
  {
   "cell_type": "code",
   "execution_count": 50,
   "id": "5b9f380f",
   "metadata": {
    "scrolled": true
   },
   "outputs": [
    {
     "data": {
      "text/html": [
       "<div>\n",
       "<style scoped>\n",
       "    .dataframe tbody tr th:only-of-type {\n",
       "        vertical-align: middle;\n",
       "    }\n",
       "\n",
       "    .dataframe tbody tr th {\n",
       "        vertical-align: top;\n",
       "    }\n",
       "\n",
       "    .dataframe thead th {\n",
       "        text-align: right;\n",
       "    }\n",
       "</style>\n",
       "<table border=\"1\" class=\"dataframe\">\n",
       "  <thead>\n",
       "    <tr style=\"text-align: right;\">\n",
       "      <th></th>\n",
       "      <th>User ID</th>\n",
       "      <th>Gender</th>\n",
       "      <th>Age</th>\n",
       "      <th>AnnualSalary</th>\n",
       "      <th>Purchased</th>\n",
       "    </tr>\n",
       "  </thead>\n",
       "  <tbody>\n",
       "    <tr>\n",
       "      <th>0</th>\n",
       "      <td>385</td>\n",
       "      <td>Male</td>\n",
       "      <td>35</td>\n",
       "      <td>20000</td>\n",
       "      <td>0</td>\n",
       "    </tr>\n",
       "    <tr>\n",
       "      <th>1</th>\n",
       "      <td>681</td>\n",
       "      <td>Male</td>\n",
       "      <td>40</td>\n",
       "      <td>43500</td>\n",
       "      <td>0</td>\n",
       "    </tr>\n",
       "    <tr>\n",
       "      <th>2</th>\n",
       "      <td>353</td>\n",
       "      <td>Male</td>\n",
       "      <td>49</td>\n",
       "      <td>74000</td>\n",
       "      <td>0</td>\n",
       "    </tr>\n",
       "    <tr>\n",
       "      <th>3</th>\n",
       "      <td>895</td>\n",
       "      <td>Male</td>\n",
       "      <td>40</td>\n",
       "      <td>107500</td>\n",
       "      <td>1</td>\n",
       "    </tr>\n",
       "    <tr>\n",
       "      <th>4</th>\n",
       "      <td>661</td>\n",
       "      <td>Male</td>\n",
       "      <td>25</td>\n",
       "      <td>79000</td>\n",
       "      <td>0</td>\n",
       "    </tr>\n",
       "  </tbody>\n",
       "</table>\n",
       "</div>"
      ],
      "text/plain": [
       "   User ID Gender  Age  AnnualSalary  Purchased\n",
       "0      385   Male   35         20000          0\n",
       "1      681   Male   40         43500          0\n",
       "2      353   Male   49         74000          0\n",
       "3      895   Male   40        107500          1\n",
       "4      661   Male   25         79000          0"
      ]
     },
     "execution_count": 50,
     "metadata": {},
     "output_type": "execute_result"
    }
   ],
   "source": [
    "df = pd.read_csv('car_data.csv', delimiter=\",\", header=0)\n",
    "df.head()"
   ]
  },
  {
   "cell_type": "markdown",
   "id": "a7d6fb32",
   "metadata": {},
   "source": [
    "#### Mengecek atribut mana saja yang memiliki missing value"
   ]
  },
  {
   "cell_type": "code",
   "execution_count": 51,
   "id": "94aa6fd0",
   "metadata": {},
   "outputs": [
    {
     "data": {
      "text/plain": [
       "User ID         0\n",
       "Gender          0\n",
       "Age             0\n",
       "AnnualSalary    0\n",
       "Purchased       0\n",
       "dtype: int64"
      ]
     },
     "execution_count": 51,
     "metadata": {},
     "output_type": "execute_result"
    }
   ],
   "source": [
    "df.isnull().sum()"
   ]
  },
  {
   "cell_type": "markdown",
   "id": "c51e1016",
   "metadata": {},
   "source": [
    "#### Mengubah kelas (kolom \"Gender\") dari String ke Unique-Integer"
   ]
  },
  {
   "cell_type": "code",
   "execution_count": 52,
   "id": "0a05715f",
   "metadata": {},
   "outputs": [],
   "source": [
    "df[\"Gender\"] = pd.factorize(df.Gender)[0]"
   ]
  },
  {
   "cell_type": "markdown",
   "id": "e15f8752",
   "metadata": {},
   "source": [
    "#### Menghapus kolom \"User ID\""
   ]
  },
  {
   "cell_type": "code",
   "execution_count": 54,
   "id": "fa357aa6",
   "metadata": {},
   "outputs": [],
   "source": [
    "df = df.drop(labels=\"User ID\", axis=1)"
   ]
  },
  {
   "cell_type": "code",
   "execution_count": 55,
   "id": "d6f0567c",
   "metadata": {
    "scrolled": true
   },
   "outputs": [
    {
     "name": "stdout",
     "output_type": "stream",
     "text": [
      "     Gender  Age  AnnualSalary  Purchased\n",
      "0         0   35         20000          0\n",
      "1         0   40         43500          0\n",
      "2         0   49         74000          0\n",
      "3         0   40        107500          1\n",
      "4         0   25         79000          0\n",
      "..      ...  ...           ...        ...\n",
      "995       0   38         59000          0\n",
      "996       1   47         23500          0\n",
      "997       1   28        138500          1\n",
      "998       1   48        134000          1\n",
      "999       1   44         73500          0\n",
      "\n",
      "[1000 rows x 4 columns]\n"
     ]
    }
   ],
   "source": [
    "print(df)"
   ]
  },
  {
   "cell_type": "markdown",
   "id": "0025ee23",
   "metadata": {},
   "source": [
    "#### Mengubah dataFrame ke array Numpy"
   ]
  },
  {
   "cell_type": "code",
   "execution_count": 56,
   "id": "bafdf290",
   "metadata": {},
   "outputs": [],
   "source": [
    "df = df.to_numpy()"
   ]
  },
  {
   "cell_type": "code",
   "execution_count": 57,
   "id": "028f7cb8",
   "metadata": {},
   "outputs": [
    {
     "name": "stdout",
     "output_type": "stream",
     "text": [
      "[[     0     35  20000      0]\n",
      " [     0     40  43500      0]\n",
      " [     0     49  74000      0]\n",
      " ...\n",
      " [     1     28 138500      1]\n",
      " [     1     48 134000      1]\n",
      " [     1     44  73500      0]]\n"
     ]
    }
   ],
   "source": [
    "# Menampilkan data\n",
    "print(df)"
   ]
  },
  {
   "cell_type": "markdown",
   "id": "368e8466",
   "metadata": {},
   "source": [
    "####  Membagi Dataset => 800 baris data untuk training dan 200 baris data untuk testing"
   ]
  },
  {
   "cell_type": "code",
   "execution_count": 58,
   "id": "6cb8b073",
   "metadata": {},
   "outputs": [],
   "source": [
    "dataTraning = np.concatenate((df[0:400, :], df[500:900, :]), axis =0)\n",
    "dataTraning = np.concatenate((df[400:500, :], df[900:1000, :]), axis =0)"
   ]
  },
  {
   "cell_type": "markdown",
   "id": "cb179f56",
   "metadata": {},
   "source": [
    "#### Memecah Dataset ke Input dan Label"
   ]
  },
  {
   "cell_type": "code",
   "execution_count": 59,
   "id": "8e67e80e",
   "metadata": {},
   "outputs": [],
   "source": [
    "inputTraining = dataTraning[:, 0:4]\n",
    "inputTesting = dataTraning[:, 0:4]\n",
    "labelTraining = dataTraning[:, 0]\n",
    "labelTesting = dataTraning [:, 0]"
   ]
  },
  {
   "cell_type": "markdown",
   "id": "994ac2b8",
   "metadata": {},
   "source": [
    "#### Mendefinisikan Decision Tree Classifier"
   ]
  },
  {
   "cell_type": "code",
   "execution_count": 60,
   "id": "c574d8f1",
   "metadata": {},
   "outputs": [],
   "source": [
    "model = tree.DecisionTreeClassifier()"
   ]
  },
  {
   "cell_type": "markdown",
   "id": "41445f5f",
   "metadata": {},
   "source": [
    "#### Mentraining Model"
   ]
  },
  {
   "cell_type": "code",
   "execution_count": 61,
   "id": "2d4880a6",
   "metadata": {},
   "outputs": [],
   "source": [
    "model = model.fit(inputTraining, labelTraining)"
   ]
  },
  {
   "cell_type": "markdown",
   "id": "57960d7d",
   "metadata": {},
   "source": [
    "#### Memprediksi Input Data Testing"
   ]
  },
  {
   "cell_type": "code",
   "execution_count": 62,
   "id": "0e1cb46f",
   "metadata": {
    "scrolled": true
   },
   "outputs": [
    {
     "name": "stdout",
     "output_type": "stream",
     "text": [
      "Label Sebenarnya :  [1 1 0 1 1 0 0 0 0 1 1 1 1 1 0 1 0 0 1 1 1 1 1 0 0 1 1 0 0 0 0 1 1 1 0 1 0\n",
      " 0 1 0 1 1 1 1 0 1 0 0 1 0 0 1 0 1 0 1 1 1 0 0 0 0 1 0 1 1 1 1 1 1 0 0 1 1\n",
      " 0 1 0 1 0 1 1 1 1 1 1 1 0 1 0 0 1 0 1 1 0 1 0 1 1 1 0 0 1 1 0 1 1 0 0 0 0\n",
      " 1 0 1 0 1 1 1 0 1 0 0 1 1 1 1 0 1 1 0 0 0 1 1 1 1 0 1 0 1 1 0 1 0 0 1 0 0\n",
      " 0 0 0 0 1 0 1 1 1 0 1 1 0 1 1 0 1 0 1 0 0 0 1 1 0 1 0 1 1 1 1 0 1 1 0 0 1\n",
      " 1 0 1 0 1 0 1 1 1 1 0 1 1 1 1]\n",
      "Hasil Prediksi :  [1 1 0 1 1 0 0 0 0 1 1 1 1 1 0 1 0 0 1 1 1 1 1 0 0 1 1 0 0 0 0 1 1 1 0 1 0\n",
      " 0 1 0 1 1 1 1 0 1 0 0 1 0 0 1 0 1 0 1 1 1 0 0 0 0 1 0 1 1 1 1 1 1 0 0 1 1\n",
      " 0 1 0 1 0 1 1 1 1 1 1 1 0 1 0 0 1 0 1 1 0 1 0 1 1 1 0 0 1 1 0 1 1 0 0 0 0\n",
      " 1 0 1 0 1 1 1 0 1 0 0 1 1 1 1 0 1 1 0 0 0 1 1 1 1 0 1 0 1 1 0 1 0 0 1 0 0\n",
      " 0 0 0 0 1 0 1 1 1 0 1 1 0 1 1 0 1 0 1 0 0 0 1 1 0 1 0 1 1 1 1 0 1 1 0 0 1\n",
      " 1 0 1 0 1 0 1 1 1 1 0 1 1 1 1]\n"
     ]
    }
   ],
   "source": [
    "hasilPrediksi = model.predict(inputTesting)\n",
    "print(\"Label Sebenarnya : \", labelTesting)\n",
    "print(\"Hasil Prediksi : \", hasilPrediksi)"
   ]
  },
  {
   "cell_type": "markdown",
   "id": "236ffd54",
   "metadata": {},
   "source": [
    "#### Menghitung Akurasi Data"
   ]
  },
  {
   "cell_type": "code",
   "execution_count": 63,
   "id": "94239b35",
   "metadata": {},
   "outputs": [
    {
     "name": "stdout",
     "output_type": "stream",
     "text": [
      "Prediksi Benar :  200 data\n",
      "Prediksi Salah :  0 data\n",
      "Akurasi :  100.0 %\n"
     ]
    }
   ],
   "source": [
    "prediksiBenar = (hasilPrediksi == labelTesting).sum()\n",
    "prediksiSalah = (hasilPrediksi != labelTesting).sum()\n",
    "print (\"Prediksi Benar : \", prediksiBenar, \"data\")\n",
    "print (\"Prediksi Salah : \", prediksiSalah, \"data\")\n",
    "print(\"Akurasi : \", prediksiBenar/(prediksiBenar+prediksiSalah)*100, \"%\")"
   ]
  }
 ],
 "metadata": {
  "kernelspec": {
   "display_name": "Python 3 (ipykernel)",
   "language": "python",
   "name": "python3"
  },
  "language_info": {
   "codemirror_mode": {
    "name": "ipython",
    "version": 3
   },
   "file_extension": ".py",
   "mimetype": "text/x-python",
   "name": "python",
   "nbconvert_exporter": "python",
   "pygments_lexer": "ipython3",
   "version": "3.9.13"
  },
  "varInspector": {
   "cols": {
    "lenName": 16,
    "lenType": 16,
    "lenVar": 40
   },
   "kernels_config": {
    "python": {
     "delete_cmd_postfix": "",
     "delete_cmd_prefix": "del ",
     "library": "var_list.py",
     "varRefreshCmd": "print(var_dic_list())"
    },
    "r": {
     "delete_cmd_postfix": ") ",
     "delete_cmd_prefix": "rm(",
     "library": "var_list.r",
     "varRefreshCmd": "cat(var_dic_list()) "
    }
   },
   "types_to_exclude": [
    "module",
    "function",
    "builtin_function_or_method",
    "instance",
    "_Feature"
   ],
   "window_display": false
  }
 },
 "nbformat": 4,
 "nbformat_minor": 5
}
