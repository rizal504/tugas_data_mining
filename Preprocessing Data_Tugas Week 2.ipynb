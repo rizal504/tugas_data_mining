{
 "cells": [
  {
   "cell_type": "markdown",
   "id": "22d67177",
   "metadata": {},
   "source": [
    "### Nama : Syaiful Rizal Sidiq\n",
    "### NIM : A11.2021.13849"
   ]
  },
  {
   "cell_type": "markdown",
   "id": "c2e37a33",
   "metadata": {},
   "source": [
    "## Importing Library\n",
    "\n"
   ]
  },
  {
   "cell_type": "code",
   "execution_count": 1,
   "id": "58dffac8",
   "metadata": {},
   "outputs": [],
   "source": [
    "#Mengimportkan Library \n",
    "import numpy as np\n",
    "import pandas as pd\n",
    "import matplotlib.pyplot as plt"
   ]
  },
  {
   "cell_type": "markdown",
   "id": "f660590a",
   "metadata": {},
   "source": [
    "## Mengimport Dataset"
   ]
  },
  {
   "cell_type": "code",
   "execution_count": 2,
   "id": "bc8229d3",
   "metadata": {
    "scrolled": true
   },
   "outputs": [
    {
     "data": {
      "text/html": [
       "<div>\n",
       "<style scoped>\n",
       "    .dataframe tbody tr th:only-of-type {\n",
       "        vertical-align: middle;\n",
       "    }\n",
       "\n",
       "    .dataframe tbody tr th {\n",
       "        vertical-align: top;\n",
       "    }\n",
       "\n",
       "    .dataframe thead th {\n",
       "        text-align: right;\n",
       "    }\n",
       "</style>\n",
       "<table border=\"1\" class=\"dataframe\">\n",
       "  <thead>\n",
       "    <tr style=\"text-align: right;\">\n",
       "      <th></th>\n",
       "      <th>Age</th>\n",
       "      <th>Gender</th>\n",
       "      <th>Education Level</th>\n",
       "      <th>Job Title</th>\n",
       "      <th>Years of Experience</th>\n",
       "      <th>Salary</th>\n",
       "    </tr>\n",
       "  </thead>\n",
       "  <tbody>\n",
       "    <tr>\n",
       "      <th>0</th>\n",
       "      <td>32.0</td>\n",
       "      <td>Male</td>\n",
       "      <td>Bachelor's</td>\n",
       "      <td>Software Engineer</td>\n",
       "      <td>5.0</td>\n",
       "      <td>90000.0</td>\n",
       "    </tr>\n",
       "    <tr>\n",
       "      <th>1</th>\n",
       "      <td>28.0</td>\n",
       "      <td>Female</td>\n",
       "      <td>Master's</td>\n",
       "      <td>Data Analyst</td>\n",
       "      <td>3.0</td>\n",
       "      <td>65000.0</td>\n",
       "    </tr>\n",
       "    <tr>\n",
       "      <th>2</th>\n",
       "      <td>45.0</td>\n",
       "      <td>Male</td>\n",
       "      <td>PhD</td>\n",
       "      <td>Senior Manager</td>\n",
       "      <td>15.0</td>\n",
       "      <td>150000.0</td>\n",
       "    </tr>\n",
       "    <tr>\n",
       "      <th>3</th>\n",
       "      <td>36.0</td>\n",
       "      <td>Female</td>\n",
       "      <td>Bachelor's</td>\n",
       "      <td>Sales Associate</td>\n",
       "      <td>7.0</td>\n",
       "      <td>60000.0</td>\n",
       "    </tr>\n",
       "    <tr>\n",
       "      <th>4</th>\n",
       "      <td>52.0</td>\n",
       "      <td>Male</td>\n",
       "      <td>Master's</td>\n",
       "      <td>Director</td>\n",
       "      <td>20.0</td>\n",
       "      <td>200000.0</td>\n",
       "    </tr>\n",
       "    <tr>\n",
       "      <th>...</th>\n",
       "      <td>...</td>\n",
       "      <td>...</td>\n",
       "      <td>...</td>\n",
       "      <td>...</td>\n",
       "      <td>...</td>\n",
       "      <td>...</td>\n",
       "    </tr>\n",
       "    <tr>\n",
       "      <th>370</th>\n",
       "      <td>35.0</td>\n",
       "      <td>Female</td>\n",
       "      <td>Bachelor's</td>\n",
       "      <td>Senior Marketing Analyst</td>\n",
       "      <td>8.0</td>\n",
       "      <td>85000.0</td>\n",
       "    </tr>\n",
       "    <tr>\n",
       "      <th>371</th>\n",
       "      <td>43.0</td>\n",
       "      <td>Male</td>\n",
       "      <td>Master's</td>\n",
       "      <td>Director of Operations</td>\n",
       "      <td>19.0</td>\n",
       "      <td>170000.0</td>\n",
       "    </tr>\n",
       "    <tr>\n",
       "      <th>372</th>\n",
       "      <td>29.0</td>\n",
       "      <td>Female</td>\n",
       "      <td>Bachelor's</td>\n",
       "      <td>Junior Project Manager</td>\n",
       "      <td>2.0</td>\n",
       "      <td>40000.0</td>\n",
       "    </tr>\n",
       "    <tr>\n",
       "      <th>373</th>\n",
       "      <td>34.0</td>\n",
       "      <td>Male</td>\n",
       "      <td>Bachelor's</td>\n",
       "      <td>Senior Operations Coordinator</td>\n",
       "      <td>7.0</td>\n",
       "      <td>90000.0</td>\n",
       "    </tr>\n",
       "    <tr>\n",
       "      <th>374</th>\n",
       "      <td>44.0</td>\n",
       "      <td>Female</td>\n",
       "      <td>PhD</td>\n",
       "      <td>Senior Business Analyst</td>\n",
       "      <td>15.0</td>\n",
       "      <td>150000.0</td>\n",
       "    </tr>\n",
       "  </tbody>\n",
       "</table>\n",
       "<p>375 rows × 6 columns</p>\n",
       "</div>"
      ],
      "text/plain": [
       "      Age  Gender Education Level                      Job Title  \\\n",
       "0    32.0    Male      Bachelor's              Software Engineer   \n",
       "1    28.0  Female        Master's                   Data Analyst   \n",
       "2    45.0    Male             PhD                 Senior Manager   \n",
       "3    36.0  Female      Bachelor's                Sales Associate   \n",
       "4    52.0    Male        Master's                       Director   \n",
       "..    ...     ...             ...                            ...   \n",
       "370  35.0  Female      Bachelor's       Senior Marketing Analyst   \n",
       "371  43.0    Male        Master's         Director of Operations   \n",
       "372  29.0  Female      Bachelor's         Junior Project Manager   \n",
       "373  34.0    Male      Bachelor's  Senior Operations Coordinator   \n",
       "374  44.0  Female             PhD        Senior Business Analyst   \n",
       "\n",
       "     Years of Experience    Salary  \n",
       "0                    5.0   90000.0  \n",
       "1                    3.0   65000.0  \n",
       "2                   15.0  150000.0  \n",
       "3                    7.0   60000.0  \n",
       "4                   20.0  200000.0  \n",
       "..                   ...       ...  \n",
       "370                  8.0   85000.0  \n",
       "371                 19.0  170000.0  \n",
       "372                  2.0   40000.0  \n",
       "373                  7.0   90000.0  \n",
       "374                 15.0  150000.0  \n",
       "\n",
       "[375 rows x 6 columns]"
      ]
     },
     "execution_count": 2,
     "metadata": {},
     "output_type": "execute_result"
    }
   ],
   "source": [
    "#Menginputkan File Dataset kedalam Phyton\n",
    "df = pd.read_csv('Salary Data.csv')\n",
    "\n",
    "#Menampilkan Dataset yang telah import\n",
    "df"
   ]
  },
  {
   "cell_type": "code",
   "execution_count": 3,
   "id": "a3fd52b9",
   "metadata": {},
   "outputs": [],
   "source": [
    "# Membagi dataset menjadi 2 yakni x sebagai atribut dan y sebagai label \n",
    "x = df.iloc[:, :-1].values\n",
    "y = df.iloc[:, -1].values"
   ]
  },
  {
   "cell_type": "code",
   "execution_count": 4,
   "id": "79b3b8ba",
   "metadata": {},
   "outputs": [
    {
     "name": "stdout",
     "output_type": "stream",
     "text": [
      "[[32.0 'Male' \"Bachelor's\" 'Software Engineer' 5.0]\n",
      " [28.0 'Female' \"Master's\" 'Data Analyst' 3.0]\n",
      " [45.0 'Male' 'PhD' 'Senior Manager' 15.0]\n",
      " ...\n",
      " [29.0 'Female' \"Bachelor's\" 'Junior Project Manager' 2.0]\n",
      " [34.0 'Male' \"Bachelor's\" 'Senior Operations Coordinator' 7.0]\n",
      " [44.0 'Female' 'PhD' 'Senior Business Analyst' 15.0]]\n"
     ]
    }
   ],
   "source": [
    "print (x)"
   ]
  },
  {
   "cell_type": "code",
   "execution_count": 5,
   "id": "05bbe452",
   "metadata": {
    "scrolled": false
   },
   "outputs": [
    {
     "name": "stdout",
     "output_type": "stream",
     "text": [
      "[ 90000.  65000. 150000.  60000. 200000.  55000. 120000.  80000.  45000.\n",
      " 110000.  75000. 140000.  65000. 130000.  40000. 125000.  90000. 115000.\n",
      "  35000. 180000.  80000. 190000.  50000.  60000. 140000.  45000. 110000.\n",
      "  40000. 140000.  90000. 250000.  55000.  75000.  65000. 170000.  45000.\n",
      "  60000. 115000.  40000. 160000.  80000. 190000.  60000.  45000. 130000.\n",
      "  40000.  75000. 180000. 120000.  35000. 130000.  85000.  60000. 200000.\n",
      "  50000.  95000.  65000. 140000.  55000. 105000. 170000.  50000.  80000.\n",
      " 180000.  35000.  90000. 120000.  45000.  90000. 150000.  65000.  70000.\n",
      " 190000.  40000. 120000.  95000. 160000. 100000. 180000.  55000.  70000.\n",
      "  80000.  30000. 250000.  40000.  95000.  45000.  80000. 135000.  55000.\n",
      " 120000.  40000. 105000. 170000.  75000.  65000. 160000.  35000.  90000.\n",
      " 110000.  45000.  95000. 150000.  50000.  80000. 220000.  50000.  60000.\n",
      " 100000.  40000. 110000.  95000. 130000.  90000.  35000.  95000.  65000.\n",
      " 170000.  45000. 120000. 100000. 180000.  50000.  80000. 140000.  40000.\n",
      "  95000. 110000.  50000. 105000. 160000.  45000. 100000. 160000.  35000.\n",
      "  55000. 140000.  50000.  60000. 120000.  40000. 110000.  50000. 135000.\n",
      "  40000.  90000. 150000.  60000.  80000. 175000.  45000. 120000. 140000.\n",
      "  35000.  95000. 110000.  50000. 115000. 185000.  40000.  90000. 175000.\n",
      "  45000.  80000. 120000.  35000. 110000. 150000.  50000. 105000. 180000.\n",
      "  40000.     nan 140000.  45000.  85000. 140000.  50000.  80000. 170000.\n",
      "  40000. 105000. 145000.  40000.  85000. 130000.  95000. 100000. 180000.\n",
      "  35000.  95000. 170000.  45000.  95000. 120000.  40000.  90000. 155000.\n",
      "  55000. 110000. 180000.  45000. 130000.  45000.  90000. 160000.  50000.\n",
      " 120000. 170000.  40000. 110000. 150000.  40000.  85000. 130000. 100000.\n",
      "  95000. 180000.  35000. 100000. 170000.  45000. 100000. 140000.  40000.\n",
      " 105000. 160000.  70000. 120000. 190000.  45000. 120000.  50000.  85000.\n",
      " 140000.  45000. 100000. 140000.  70000. 120000. 160000.  40000. 120000.\n",
      " 150000.  70000.  95000. 180000.  50000.  95000. 170000.  40000. 110000.\n",
      " 150000.  40000.  85000. 130000. 100000.  95000. 180000.    350.     nan\n",
      " 120000. 160000.  50000. 110000.  40000.  95000. 140000.  60000. 110000.\n",
      " 150000.  60000.  90000. 180000.  40000. 120000. 160000.  70000.  95000.\n",
      " 180000.  50000.  95000. 170000.  35000. 100000. 150000.  60000.  85000.\n",
      " 130000.  65000. 110000. 180000.  40000.  90000. 140000.  60000. 130000.\n",
      " 160000.  40000. 100000. 180000.  55000. 120000. 150000.  70000.  95000.\n",
      " 180000.  50000. 120000. 170000.  35000. 100000. 150000.  60000.  85000.\n",
      " 130000.  80000.  95000.  40000. 120000. 160000.  65000. 130000. 180000.\n",
      "  40000. 100000. 150000.  55000. 110000. 180000.  50000. 130000. 160000.\n",
      "  60000.  95000. 170000.  40000.  90000. 150000.  70000.  90000. 170000.\n",
      "  50000. 150000. 160000.  60000.  85000. 180000.  35000. 110000. 160000.\n",
      "  55000. 110000. 180000.  50000. 130000. 160000.  60000.  95000. 170000.\n",
      "  40000.  90000. 150000.  70000.  90000. 170000.  50000. 150000. 160000.\n",
      "  60000.  85000. 170000.  40000.  90000. 150000.]\n"
     ]
    }
   ],
   "source": [
    "print (y)"
   ]
  },
  {
   "cell_type": "markdown",
   "id": "45f488cc",
   "metadata": {},
   "source": [
    "## Mencari data yang memiliki missing values\n",
    "\n",
    "Mencari dan menampilkan atribut atau label yang memiliki missing values sehingga dapat diperbaiki data yang memiliki missing values tersebut"
   ]
  },
  {
   "cell_type": "code",
   "execution_count": 6,
   "id": "114ab166",
   "metadata": {
    "scrolled": false
   },
   "outputs": [
    {
     "data": {
      "text/plain": [
       "Age                    2\n",
       "Gender                 2\n",
       "Education Level        2\n",
       "Job Title              2\n",
       "Years of Experience    2\n",
       "Salary                 2\n",
       "dtype: int64"
      ]
     },
     "execution_count": 6,
     "metadata": {},
     "output_type": "execute_result"
    }
   ],
   "source": [
    "# Menampikan Jumlah Missing values dari setiap atribut\n",
    "df.isnull().sum()"
   ]
  },
  {
   "cell_type": "markdown",
   "id": "1c8b43f2",
   "metadata": {},
   "source": [
    "## Memperbaiki missing value (nan)"
   ]
  },
  {
   "cell_type": "markdown",
   "id": "d51b4326",
   "metadata": {},
   "source": [
    "### Membersihkan Data Non-Numerik\n",
    "\n",
    "Metode yang digunakan yakni  imputasi most frequent atau modus untuk memperbaiki missing values pada data non-Numerik. Metode ini akan mengambil data yang sering keluar pada dataset.\n",
    "\n",
    "###### Pertama mencari most_frequent data dari masing masing atribut yang memiliki missing values"
   ]
  },
  {
   "cell_type": "code",
   "execution_count": 7,
   "id": "52f730a1",
   "metadata": {},
   "outputs": [
    {
     "data": {
      "text/plain": [
       "'Male'"
      ]
     },
     "execution_count": 7,
     "metadata": {},
     "output_type": "execute_result"
    }
   ],
   "source": [
    "most_frequent_gender = df[\"Gender\"].mode()[0]\n",
    "most_frequent_gender"
   ]
  },
  {
   "cell_type": "code",
   "execution_count": 8,
   "id": "f33fd4f6",
   "metadata": {},
   "outputs": [
    {
     "data": {
      "text/plain": [
       "\"Bachelor's\""
      ]
     },
     "execution_count": 8,
     "metadata": {},
     "output_type": "execute_result"
    }
   ],
   "source": [
    "most_frequent_Education = df[\"Education Level\"].mode()[0]\n",
    "most_frequent_Education"
   ]
  },
  {
   "cell_type": "code",
   "execution_count": 9,
   "id": "96a9a56d",
   "metadata": {
    "scrolled": true
   },
   "outputs": [
    {
     "data": {
      "text/plain": [
       "'Director of Marketing'"
      ]
     },
     "execution_count": 9,
     "metadata": {},
     "output_type": "execute_result"
    }
   ],
   "source": [
    "most_frequent_Job = df[\"Job Title\"].mode()[0]\n",
    "most_frequent_Job"
   ]
  },
  {
   "cell_type": "markdown",
   "id": "a2862f5e",
   "metadata": {},
   "source": [
    "Langkah Kedua, imputasikan data yang dihasilkan dari langkah pertama"
   ]
  },
  {
   "cell_type": "code",
   "execution_count": 10,
   "id": "1638e3c1",
   "metadata": {},
   "outputs": [],
   "source": [
    "df[\"Gender\"] = df[\"Gender\"].fillna(most_frequent_gender)\n",
    "df[\"Education Level\"] = df[\"Education Level\"].fillna(most_frequent_Education)\n",
    "df[\"Job Title\"] = df[\"Job Title\"].fillna(most_frequent_Job)"
   ]
  },
  {
   "cell_type": "code",
   "execution_count": 11,
   "id": "9c1cc789",
   "metadata": {},
   "outputs": [
    {
     "data": {
      "text/plain": [
       "Age                    2\n",
       "Gender                 0\n",
       "Education Level        0\n",
       "Job Title              0\n",
       "Years of Experience    2\n",
       "Salary                 2\n",
       "dtype: int64"
      ]
     },
     "execution_count": 11,
     "metadata": {},
     "output_type": "execute_result"
    }
   ],
   "source": [
    "#menampilkan data atribut yang telah imputasikan \n",
    "df.isnull().sum()"
   ]
  },
  {
   "cell_type": "markdown",
   "id": "5e97729c",
   "metadata": {},
   "source": [
    "### Membersihkan Data Numerik\n",
    "\n",
    "Proses pembersihan data yang bersifat numerik, disini menggunakan metode imputasi menggunakan mean (nilai rata rata). Metode ini akan mengambil data dari rata-rata dari data pada atribut yang memiliki missing values yang mana nantinya akan diimputasikan pada data yang kosong di atribut yang memiliki msissing value.\n",
    "\n",
    "Data Numerik yang memiliki missing values pada dataset tersebut yaitu pada atribut Age,Years of Experience dan salary."
   ]
  },
  {
   "cell_type": "code",
   "execution_count": 12,
   "id": "67286965",
   "metadata": {},
   "outputs": [],
   "source": [
    "from sklearn.impute import SimpleImputer\n",
    "imputer = SimpleImputer(strategy='mean')\n",
    "df['Age'] = imputer.fit_transform(df[['Age']])\n",
    "\n",
    "from sklearn.impute import SimpleImputer\n",
    "imputer = SimpleImputer(strategy='mean')\n",
    "df['Years of Experience'] = imputer.fit_transform(df[['Years of Experience']])\n",
    "\n",
    "from sklearn.impute import SimpleImputer\n",
    "imputer = SimpleImputer(strategy='mean')\n",
    "df['Salary'] = imputer.fit_transform(df[['Salary']])"
   ]
  },
  {
   "cell_type": "code",
   "execution_count": 13,
   "id": "183ac30b",
   "metadata": {},
   "outputs": [
    {
     "name": "stdout",
     "output_type": "stream",
     "text": [
      "      Age  Gender Education Level                      Job Title  \\\n",
      "0    32.0    Male      Bachelor's              Software Engineer   \n",
      "1    28.0  Female        Master's                   Data Analyst   \n",
      "2    45.0    Male             PhD                 Senior Manager   \n",
      "3    36.0  Female      Bachelor's                Sales Associate   \n",
      "4    52.0    Male        Master's                       Director   \n",
      "..    ...     ...             ...                            ...   \n",
      "370  35.0  Female      Bachelor's       Senior Marketing Analyst   \n",
      "371  43.0    Male        Master's         Director of Operations   \n",
      "372  29.0  Female      Bachelor's         Junior Project Manager   \n",
      "373  34.0    Male      Bachelor's  Senior Operations Coordinator   \n",
      "374  44.0  Female             PhD        Senior Business Analyst   \n",
      "\n",
      "     Years of Experience    Salary  \n",
      "0                    5.0   90000.0  \n",
      "1                    3.0   65000.0  \n",
      "2                   15.0  150000.0  \n",
      "3                    7.0   60000.0  \n",
      "4                   20.0  200000.0  \n",
      "..                   ...       ...  \n",
      "370                  8.0   85000.0  \n",
      "371                 19.0  170000.0  \n",
      "372                  2.0   40000.0  \n",
      "373                  7.0   90000.0  \n",
      "374                 15.0  150000.0  \n",
      "\n",
      "[375 rows x 6 columns]\n"
     ]
    }
   ],
   "source": [
    "print (df)"
   ]
  },
  {
   "cell_type": "code",
   "execution_count": 14,
   "id": "9ca898c3",
   "metadata": {
    "scrolled": false
   },
   "outputs": [
    {
     "data": {
      "text/plain": [
       "Age                    0\n",
       "Gender                 0\n",
       "Education Level        0\n",
       "Job Title              0\n",
       "Years of Experience    0\n",
       "Salary                 0\n",
       "dtype: int64"
      ]
     },
     "execution_count": 14,
     "metadata": {},
     "output_type": "execute_result"
    }
   ],
   "source": [
    "#Menampilkan data atribut yang telah di imputasikan\n",
    "df.isnull().sum()"
   ]
  },
  {
   "cell_type": "markdown",
   "id": "c44793a2",
   "metadata": {},
   "source": [
    "## Encoding data kategori (Atribut)\n",
    "\n",
    "Proses encoding bertujuan untuk mengubah nilai kategori atau string menjadi nilai numerik agar dapat digunakan dalam analisis data atau model machine learning.\n",
    "\n",
    "Pada dataset ini saya menggunakan teknik encoding One-Hot-Encoding dimana berjalan dengan membuat variabel dummy baru untuk setiap nilai kategori unik dan mengisinya dengan 0 atau 1."
   ]
  },
  {
   "cell_type": "code",
   "execution_count": 15,
   "id": "4402cbc0",
   "metadata": {},
   "outputs": [],
   "source": [
    "#mengencoding data ketegori atribut\n",
    "from sklearn.compose import ColumnTransformer\n",
    "from sklearn.preprocessing import OneHotEncoder\n",
    "ct = ColumnTransformer(transformers=[('encoder', OneHotEncoder(),[1])], remainder='passthrough')\n",
    "x = np.array(ct.fit_transform(x))"
   ]
  },
  {
   "cell_type": "code",
   "execution_count": 16,
   "id": "e73d814d",
   "metadata": {
    "scrolled": true
   },
   "outputs": [
    {
     "name": "stdout",
     "output_type": "stream",
     "text": [
      "[[0.0 1.0 0.0 ... \"Bachelor's\" 'Software Engineer' 5.0]\n",
      " [1.0 0.0 0.0 ... \"Master's\" 'Data Analyst' 3.0]\n",
      " [0.0 1.0 0.0 ... 'PhD' 'Senior Manager' 15.0]\n",
      " ...\n",
      " [1.0 0.0 0.0 ... \"Bachelor's\" 'Junior Project Manager' 2.0]\n",
      " [0.0 1.0 0.0 ... \"Bachelor's\" 'Senior Operations Coordinator' 7.0]\n",
      " [1.0 0.0 0.0 ... 'PhD' 'Senior Business Analyst' 15.0]]\n"
     ]
    }
   ],
   "source": [
    "print(x)"
   ]
  },
  {
   "cell_type": "markdown",
   "id": "a933a3e6",
   "metadata": {},
   "source": [
    "## Encoding data kategori (Class / Label)\n",
    "\n",
    "Bagian ini menggunakan teknik encoding LabelEncoder, yang mana merupakan salah satu class yang dimiliki oleh library sklearn.preprocessing"
   ]
  },
  {
   "cell_type": "code",
   "execution_count": 17,
   "id": "88ac96a1",
   "metadata": {},
   "outputs": [],
   "source": [
    "#mengencoding data kategori label\n",
    "from sklearn.preprocessing import LabelEncoder\n",
    "le = LabelEncoder()\n",
    "y = le.fit_transform(y)"
   ]
  },
  {
   "cell_type": "code",
   "execution_count": 18,
   "id": "54fd1a26",
   "metadata": {
    "scrolled": true
   },
   "outputs": [
    {
     "name": "stdout",
     "output_type": "stream",
     "text": [
      "[13  8 25  7 33  6 19 11  4 17 10 23  8 21  3 20 13 18  2 30 11 32  5  7\n",
      " 23  4 17  3 23 13 35  6 10  8 28  4  7 18  3 27 11 32  7  4 21  3 10 30\n",
      " 19  2 21 12  7 33  5 14  8 23  6 16 28  5 11 30  2 13 19  4 13 25  8  9\n",
      " 32  3 19 14 27 15 30  6  9 11  1 35  3 14  4 11 22  6 19  3 16 28 10  8\n",
      " 27  2 13 17  4 14 25  5 11 34  5  7 15  3 17 14 21 13  2 14  8 28  4 19\n",
      " 15 30  5 11 23  3 14 17  5 16 27  4 15 27  2  6 23  5  7 19  3 17  5 22\n",
      "  3 13 25  7 11 29  4 19 23  2 14 17  5 18 31  3 13 29  4 11 19  2 17 25\n",
      "  5 16 30  3 36 23  4 12 23  5 11 28  3 16 24  3 12 21 14 15 30  2 14 28\n",
      "  4 14 19  3 13 26  6 17 30  4 21  4 13 27  5 19 28  3 17 25  3 12 21 15\n",
      " 14 30  2 15 28  4 15 23  3 16 27  9 19 32  4 19  5 12 23  4 15 23  9 19\n",
      " 27  3 19 25  9 14 30  5 14 28  3 17 25  3 12 21 15 14 30  0 36 19 27  5\n",
      " 17  3 14 23  7 17 25  7 13 30  3 19 27  9 14 30  5 14 28  2 15 25  7 12\n",
      " 21  8 17 30  3 13 23  7 21 27  3 15 30  6 19 25  9 14 30  5 19 28  2 15\n",
      " 25  7 12 21 11 14  3 19 27  8 21 30  3 15 25  6 17 30  5 21 27  7 14 28\n",
      "  3 13 25  9 13 28  5 25 27  7 12 30  2 17 27  6 17 30  5 21 27  7 14 28\n",
      "  3 13 25  9 13 28  5 25 27  7 12 28  3 13 25]\n"
     ]
    }
   ],
   "source": [
    "print (y)"
   ]
  },
  {
   "cell_type": "markdown",
   "id": "3f9cff6a",
   "metadata": {},
   "source": [
    "## Membagi dataset ke dalam training set dan test set"
   ]
  },
  {
   "cell_type": "code",
   "execution_count": 19,
   "id": "46edf2a7",
   "metadata": {},
   "outputs": [],
   "source": [
    "from sklearn.model_selection import train_test_split\n",
    "x_train, x_test, y_train, y_test = train_test_split(x, y, test_size = 0.2, random_state = 1)"
   ]
  },
  {
   "cell_type": "code",
   "execution_count": 20,
   "id": "f040c6c8",
   "metadata": {},
   "outputs": [
    {
     "name": "stdout",
     "output_type": "stream",
     "text": [
      "[[1.0 0.0 0.0 ... 'PhD' 'Senior Data Engineer' 16.0]\n",
      " [1.0 0.0 0.0 ... \"Master's\" 'Senior Financial Analyst' 6.0]\n",
      " [0.0 1.0 0.0 ... \"Bachelor's\" 'Junior Developer' 1.0]\n",
      " ...\n",
      " [0.0 1.0 0.0 ... 'PhD' 'Research Director' 16.0]\n",
      " [0.0 1.0 0.0 ... \"Bachelor's\" 'Junior Sales Representative' 3.0]\n",
      " [0.0 1.0 0.0 ... \"Master's\" 'Project Engineer' 14.0]]\n"
     ]
    }
   ],
   "source": [
    "print (x_train)"
   ]
  },
  {
   "cell_type": "code",
   "execution_count": 21,
   "id": "df007e54",
   "metadata": {},
   "outputs": [
    {
     "name": "stdout",
     "output_type": "stream",
     "text": [
      "[[1.0 0.0 0.0 31.0 \"Bachelor's\" 'Customer Service Representative' 5.0]\n",
      " [1.0 0.0 0.0 30.0 \"Bachelor's\" 'Junior HR Coordinator' 2.0]\n",
      " [1.0 0.0 0.0 38.0 \"Bachelor's\" 'Senior Project Manager' 9.0]\n",
      " [0.0 0.0 1.0 nan nan nan nan]\n",
      " [0.0 1.0 0.0 36.0 'PhD' 'Principal Scientist' 11.0]\n",
      " [0.0 1.0 0.0 34.0 \"Bachelor's\" 'Senior Operations Coordinator' 7.0]\n",
      " [0.0 1.0 0.0 46.0 'PhD' 'Senior Researcher' 18.0]\n",
      " [1.0 0.0 0.0 39.0 \"Bachelor's\" 'Senior Project Manager' 12.0]\n",
      " [1.0 0.0 0.0 38.0 \"Master's\" 'Digital Marketing Manager' 10.0]\n",
      " [1.0 0.0 0.0 29.0 \"Bachelor's\" 'Junior Recruiter' 3.0]\n",
      " [0.0 1.0 0.0 33.0 \"Bachelor's\" 'Junior Product Manager' 4.0]\n",
      " [0.0 1.0 0.0 29.0 \"Bachelor's\" 'Junior Marketing Coordinator' 2.0]\n",
      " [0.0 1.0 0.0 28.0 \"Bachelor's\" 'Junior Operations Analyst' 1.5]\n",
      " [1.0 0.0 0.0 33.0 \"Bachelor's\" 'Junior Operations Manager' 5.0]\n",
      " [0.0 1.0 0.0 29.0 \"Bachelor's\" 'Marketing Analyst' 2.0]\n",
      " [0.0 1.0 0.0 28.0 \"Bachelor's\" 'Junior Financial Analyst' 2.0]\n",
      " [0.0 1.0 0.0 36.0 \"Bachelor's\" 'Senior Business Development Manager' 8.0]\n",
      " [1.0 0.0 0.0 40.0 \"Bachelor's\" 'HR Manager' 12.0]\n",
      " [0.0 1.0 0.0 48.0 \"Master's\" 'Director of Product Management' 21.0]\n",
      " [0.0 1.0 0.0 29.0 \"Bachelor's\" 'Junior Web Designer' 3.0]\n",
      " [1.0 0.0 0.0 42.0 \"Master's\" 'Product Manager' 12.0]\n",
      " [0.0 1.0 0.0 47.0 \"Master's\" 'Director of Business Development' 19.0]\n",
      " [0.0 1.0 0.0 31.0 \"Bachelor's\" 'Junior HR Generalist' 4.0]\n",
      " [1.0 0.0 0.0 40.0 \"Bachelor's\" 'Senior Marketing Manager' 12.0]\n",
      " [1.0 0.0 0.0 44.0 'PhD' 'Senior Business Analyst' 15.0]\n",
      " [0.0 1.0 0.0 52.0 \"Master's\" 'Director' 20.0]\n",
      " [0.0 1.0 0.0 36.0 \"Bachelor's\" 'IT Support Specialist' 7.0]\n",
      " [1.0 0.0 0.0 48.0 \"Master's\" 'Director of HR' 20.0]\n",
      " [1.0 0.0 0.0 29.0 \"Bachelor's\" 'Junior Project Manager' 2.0]\n",
      " [1.0 0.0 0.0 44.0 'PhD' 'Senior Business Analyst' 15.0]\n",
      " [0.0 1.0 0.0 43.0 \"Master's\" 'Director of Marketing' 18.0]\n",
      " [1.0 0.0 0.0 47.0 \"Master's\" 'Director of Marketing' 20.0]\n",
      " [0.0 1.0 0.0 43.0 \"Bachelor's\" 'Senior Project Manager' 16.0]\n",
      " [0.0 1.0 0.0 47.0 \"Master's\" 'Director of Operations' 20.0]\n",
      " [1.0 0.0 0.0 34.0 \"Bachelor's\" 'Junior Marketing Analyst' 6.0]\n",
      " [1.0 0.0 0.0 36.0 \"Bachelor's\" 'Senior Marketing Manager' 8.0]\n",
      " [1.0 0.0 0.0 42.0 \"Bachelor's\" 'Sales Manager' 17.0]\n",
      " [0.0 1.0 0.0 44.0 \"Bachelor's\" 'Senior Software Engineer' 13.0]\n",
      " [0.0 1.0 0.0 39.0 'PhD' 'Senior Engineer' 12.0]\n",
      " [1.0 0.0 0.0 30.0 \"Bachelor's\" 'Junior Operations Coordinator' 2.0]\n",
      " [1.0 0.0 0.0 35.0 \"Bachelor's\" 'Senior Marketing Analyst' 8.0]\n",
      " [1.0 0.0 0.0 31.0 \"Bachelor's\" 'Junior Financial Analyst' 3.0]\n",
      " [1.0 0.0 0.0 40.0 \"Master's\" 'Senior Training Specialist' 12.0]\n",
      " [0.0 1.0 0.0 34.0 \"Bachelor's\" 'Senior Operations Coordinator' 7.0]\n",
      " [0.0 1.0 0.0 36.0 \"Bachelor's\" 'Junior Data Analyst' 7.0]\n",
      " [1.0 0.0 0.0 48.0 \"Bachelor's\" 'HR Manager' 18.0]\n",
      " [1.0 0.0 0.0 41.0 \"Master's\" 'Data Analyst' 13.0]\n",
      " [1.0 0.0 0.0 25.0 \"Bachelor's\" 'Data Entry Clerk' 0.0]\n",
      " [1.0 0.0 0.0 44.0 'PhD' 'Senior Scientist' 16.0]\n",
      " [1.0 0.0 0.0 49.0 \"Master's\" 'Senior HR Manager' 19.0]\n",
      " [0.0 1.0 0.0 36.0 \"Bachelor's\" 'Senior Operations Manager' 9.0]\n",
      " [1.0 0.0 0.0 42.0 'PhD' 'Senior Marketing Manager' 13.0]\n",
      " [0.0 1.0 0.0 48.0 \"Master's\" 'Operations Director' 18.0]\n",
      " [1.0 0.0 0.0 31.0 \"Bachelor's\" 'Junior Social Media Specialist' 3.0]\n",
      " [1.0 0.0 0.0 30.0 \"Bachelor's\" 'Digital Content Producer' 3.0]\n",
      " [1.0 0.0 0.0 29.0 \"Bachelor's\" 'Junior Sales Representative' 2.0]\n",
      " [1.0 0.0 0.0 39.0 \"Bachelor's\" 'Senior Sales Representative' 12.0]\n",
      " [1.0 0.0 0.0 34.0 \"Bachelor's\" 'Junior Financial Analyst' 5.0]\n",
      " [0.0 1.0 0.0 46.0 \"Master's\" 'Director of Operations' 20.0]\n",
      " [0.0 1.0 0.0 45.0 \"Master's\" 'Director of Engineering' 19.0]\n",
      " [1.0 0.0 0.0 38.0 \"Bachelor's\" 'Senior Business Analyst' 10.0]\n",
      " [1.0 0.0 0.0 38.0 \"Master's\" 'Public Relations Manager' 10.0]\n",
      " [0.0 1.0 0.0 26.0 \"Bachelor's\" 'Junior Accountant' 2.0]\n",
      " [0.0 1.0 0.0 36.0 \"Bachelor's\" 'Senior Business Analyst' 8.0]\n",
      " [1.0 0.0 0.0 40.0 \"Master's\" 'Project Manager' 14.0]\n",
      " [1.0 0.0 0.0 35.0 \"Bachelor's\" 'Senior Financial Manager' 8.0]\n",
      " [0.0 1.0 0.0 29.0 \"Bachelor's\" 'Junior Business Operations Analyst' 1.5]\n",
      " [1.0 0.0 0.0 31.0 \"Bachelor's\" 'Marketing Coordinator' 6.0]\n",
      " [1.0 0.0 0.0 39.0 \"Bachelor's\" 'Training Specialist' 12.0]\n",
      " [1.0 0.0 0.0 30.0 \"Bachelor's\" 'Junior Marketing Coordinator' 2.0]\n",
      " [1.0 0.0 0.0 48.0 \"Master's\" 'Human Resources Director' 20.0]\n",
      " [0.0 1.0 0.0 35.0 \"Bachelor's\" 'Senior Operations Analyst' 7.0]\n",
      " [0.0 1.0 0.0 33.0 \"Bachelor's\" 'Junior Operations Manager' 4.0]\n",
      " [0.0 1.0 0.0 40.0 \"Bachelor's\" 'Senior Financial Analyst' 12.0]\n",
      " [0.0 1.0 0.0 25.0 \"Bachelor's\" 'Sales Representative' 0.0]]\n"
     ]
    }
   ],
   "source": [
    "print (x_test)"
   ]
  },
  {
   "cell_type": "code",
   "execution_count": 22,
   "id": "3bcb9189",
   "metadata": {},
   "outputs": [
    {
     "name": "stdout",
     "output_type": "stream",
     "text": [
      "[27 14  3 30  3 19 28 28 26 30 21 19 16 16 27  3 17  5 17 16  8  8  4  3\n",
      " 14 25 28 13 14  6 36 15  4  4  5  5 27 25 15 19  9 22 15 27 23 12 13  3\n",
      "  7 19 11 13 14 12 21 17  3 13 23 13 34 11 21  8  3 13 21  7 25  2  4 14\n",
      "  3 30 28  7  4  4 28 17  5  6  6 14 30  5 31 28 21 17 19 15 15 30 16  6\n",
      " 27 14  4  9 17 25  6 15 23  6 14 15 10 15 19  2 14  8 19  4  2 30 18  5\n",
      " 10 19 27 12 12 28 25 19  3  5 23 30 13  5 25 11 32 14 19 25 33 17 30  5\n",
      " 23  9 15 12 27  2  2  8  3 30  5  8 25 25 19  5 30  8  5  7  3 13  3 16\n",
      "  2  2 30  9 32 25 14  4  6 30 13  7  3  5 23 19  6 24  5 28 27  7 28 10\n",
      " 14  3 11 21 23 10 17 27 17 27 23  7  7  3 11  5 14 30 15  5 12 29 30 25\n",
      "  7 27  3  0  3 19 13 14 19 25  9 11 19 22 25 14 21 23 17 35 17 30 14  3\n",
      "  3 12 11  2 28 27  4 13  2 20 27  3 19 17 27  4  5  7  7  2 28 35 30 14\n",
      " 27 14 17  3 11  8  7  5 14 19 11 17  4 17  3 15 13 21  5 25  7 12 27 11\n",
      " 14 23  9 16  3 28 27  4 21 32  4 18]\n"
     ]
    }
   ],
   "source": [
    "print(y_train)"
   ]
  },
  {
   "cell_type": "code",
   "execution_count": 23,
   "id": "ed3f032a",
   "metadata": {
    "scrolled": true
   },
   "outputs": [
    {
     "name": "stdout",
     "output_type": "stream",
     "text": [
      "[ 4  3 19 36 19 13 25 21 13  4  7  3  2  9  6  3 17 11 29  4 19 28  5 21\n",
      " 25 33  7 30  3 25 28 30 23 28  9 14 15 21 18  3 12  5 15 13  7 23 11  2\n",
      " 23 25 15 23 32  4  5  3 13  9 28 30 17 13  3 14 21 13  2  6  8  3 30 12\n",
      "  7 21  1]\n"
     ]
    }
   ],
   "source": [
    "print (y_test)"
   ]
  },
  {
   "cell_type": "markdown",
   "id": "7e32a328",
   "metadata": {},
   "source": [
    "## Feature Scaling"
   ]
  },
  {
   "cell_type": "code",
   "execution_count": 35,
   "id": "599d14a6",
   "metadata": {},
   "outputs": [],
   "source": [
    "from sklearn.preprocessing import StandardScaler\n",
    "sc = StandardScaler()\n",
    "scaled_x_train = sc.fit_transform(x_train[:, :4])\n",
    "scaled_x_test = sc.transform(x_test[:, :4])"
   ]
  },
  {
   "cell_type": "code",
   "execution_count": 36,
   "id": "4fb1f3c8",
   "metadata": {},
   "outputs": [
    {
     "name": "stdout",
     "output_type": "stream",
     "text": [
      "[[ 1.08347268 -1.0762311  -0.05783149  0.91652465]\n",
      " [ 1.08347268 -1.0762311  -0.05783149 -0.62776304]\n",
      " [-0.92295821  0.92916847 -0.05783149 -1.89127116]\n",
      " ...\n",
      " [-0.92295821  0.92916847 -0.05783149  1.05691445]\n",
      " [-0.92295821  0.92916847 -0.05783149 -0.76815284]\n",
      " [-0.92295821  0.92916847 -0.05783149  0.63574507]]\n"
     ]
    }
   ],
   "source": [
    "print (scaled_x_train)"
   ]
  },
  {
   "cell_type": "code",
   "execution_count": 37,
   "id": "569b91a8",
   "metadata": {},
   "outputs": [
    {
     "name": "stdout",
     "output_type": "stream",
     "text": [
      "[[ 1.08347268 -1.0762311  -0.05783149 -0.90854263]\n",
      " [ 1.08347268 -1.0762311  -0.05783149 -1.04893242]\n",
      " [ 1.08347268 -1.0762311  -0.05783149  0.07418591]\n",
      " [-0.92295821 -1.0762311  17.29161647         nan]\n",
      " [-0.92295821  0.92916847 -0.05783149 -0.20659367]\n",
      " [-0.92295821  0.92916847 -0.05783149 -0.48737325]\n",
      " [-0.92295821  0.92916847 -0.05783149  1.19730424]\n",
      " [ 1.08347268 -1.0762311  -0.05783149  0.2145757 ]\n",
      " [ 1.08347268 -1.0762311  -0.05783149  0.07418591]\n",
      " [ 1.08347268 -1.0762311  -0.05783149 -1.18932221]\n",
      " [-0.92295821  0.92916847 -0.05783149 -0.62776304]\n",
      " [-0.92295821  0.92916847 -0.05783149 -1.18932221]\n",
      " [-0.92295821  0.92916847 -0.05783149 -1.329712  ]\n",
      " [ 1.08347268 -1.0762311  -0.05783149 -0.62776304]\n",
      " [-0.92295821  0.92916847 -0.05783149 -1.18932221]\n",
      " [-0.92295821  0.92916847 -0.05783149 -1.329712  ]\n",
      " [-0.92295821  0.92916847 -0.05783149 -0.20659367]\n",
      " [ 1.08347268 -1.0762311  -0.05783149  0.35496549]\n",
      " [-0.92295821  0.92916847 -0.05783149  1.47808382]\n",
      " [-0.92295821  0.92916847 -0.05783149 -1.18932221]\n",
      " [ 1.08347268 -1.0762311  -0.05783149  0.63574507]\n",
      " [-0.92295821  0.92916847 -0.05783149  1.33769403]\n",
      " [-0.92295821  0.92916847 -0.05783149 -0.90854263]\n",
      " [ 1.08347268 -1.0762311  -0.05783149  0.35496549]\n",
      " [ 1.08347268 -1.0762311  -0.05783149  0.91652465]\n",
      " [-0.92295821  0.92916847 -0.05783149  2.03964298]\n",
      " [-0.92295821  0.92916847 -0.05783149 -0.20659367]\n",
      " [ 1.08347268 -1.0762311  -0.05783149  1.47808382]\n",
      " [ 1.08347268 -1.0762311  -0.05783149 -1.18932221]\n",
      " [ 1.08347268 -1.0762311  -0.05783149  0.91652465]\n",
      " [-0.92295821  0.92916847 -0.05783149  0.77613486]\n",
      " [ 1.08347268 -1.0762311  -0.05783149  1.33769403]\n",
      " [-0.92295821  0.92916847 -0.05783149  0.77613486]\n",
      " [-0.92295821  0.92916847 -0.05783149  1.33769403]\n",
      " [ 1.08347268 -1.0762311  -0.05783149 -0.48737325]\n",
      " [ 1.08347268 -1.0762311  -0.05783149 -0.20659367]\n",
      " [ 1.08347268 -1.0762311  -0.05783149  0.63574507]\n",
      " [-0.92295821  0.92916847 -0.05783149  0.91652465]\n",
      " [-0.92295821  0.92916847 -0.05783149  0.2145757 ]\n",
      " [ 1.08347268 -1.0762311  -0.05783149 -1.04893242]\n",
      " [ 1.08347268 -1.0762311  -0.05783149 -0.34698346]\n",
      " [ 1.08347268 -1.0762311  -0.05783149 -0.90854263]\n",
      " [ 1.08347268 -1.0762311  -0.05783149  0.35496549]\n",
      " [-0.92295821  0.92916847 -0.05783149 -0.48737325]\n",
      " [-0.92295821  0.92916847 -0.05783149 -0.20659367]\n",
      " [ 1.08347268 -1.0762311  -0.05783149  1.47808382]\n",
      " [ 1.08347268 -1.0762311  -0.05783149  0.49535528]\n",
      " [ 1.08347268 -1.0762311  -0.05783149 -1.75088137]\n",
      " [ 1.08347268 -1.0762311  -0.05783149  0.91652465]\n",
      " [ 1.08347268 -1.0762311  -0.05783149  1.61847361]\n",
      " [-0.92295821  0.92916847 -0.05783149 -0.20659367]\n",
      " [ 1.08347268 -1.0762311  -0.05783149  0.63574507]\n",
      " [-0.92295821  0.92916847 -0.05783149  1.47808382]\n",
      " [ 1.08347268 -1.0762311  -0.05783149 -0.90854263]\n",
      " [ 1.08347268 -1.0762311  -0.05783149 -1.04893242]\n",
      " [ 1.08347268 -1.0762311  -0.05783149 -1.18932221]\n",
      " [ 1.08347268 -1.0762311  -0.05783149  0.2145757 ]\n",
      " [ 1.08347268 -1.0762311  -0.05783149 -0.48737325]\n",
      " [-0.92295821  0.92916847 -0.05783149  1.19730424]\n",
      " [-0.92295821  0.92916847 -0.05783149  1.05691445]\n",
      " [ 1.08347268 -1.0762311  -0.05783149  0.07418591]\n",
      " [ 1.08347268 -1.0762311  -0.05783149  0.07418591]\n",
      " [-0.92295821  0.92916847 -0.05783149 -1.61049158]\n",
      " [-0.92295821  0.92916847 -0.05783149 -0.20659367]\n",
      " [ 1.08347268 -1.0762311  -0.05783149  0.35496549]\n",
      " [ 1.08347268 -1.0762311  -0.05783149 -0.34698346]\n",
      " [-0.92295821  0.92916847 -0.05783149 -1.18932221]\n",
      " [ 1.08347268 -1.0762311  -0.05783149 -0.90854263]\n",
      " [ 1.08347268 -1.0762311  -0.05783149  0.2145757 ]\n",
      " [ 1.08347268 -1.0762311  -0.05783149 -1.04893242]\n",
      " [ 1.08347268 -1.0762311  -0.05783149  1.47808382]\n",
      " [-0.92295821  0.92916847 -0.05783149 -0.34698346]\n",
      " [-0.92295821  0.92916847 -0.05783149 -0.62776304]\n",
      " [-0.92295821  0.92916847 -0.05783149  0.35496549]\n",
      " [-0.92295821  0.92916847 -0.05783149 -1.75088137]]\n"
     ]
    }
   ],
   "source": [
    "print (scaled_x_test)"
   ]
  },
  {
   "cell_type": "code",
   "execution_count": null,
   "id": "3f19ed16",
   "metadata": {},
   "outputs": [],
   "source": []
  }
 ],
 "metadata": {
  "kernelspec": {
   "display_name": "Python 3 (ipykernel)",
   "language": "python",
   "name": "python3"
  },
  "language_info": {
   "codemirror_mode": {
    "name": "ipython",
    "version": 3
   },
   "file_extension": ".py",
   "mimetype": "text/x-python",
   "name": "python",
   "nbconvert_exporter": "python",
   "pygments_lexer": "ipython3",
   "version": "3.9.13"
  },
  "toc": {
   "base_numbering": 1,
   "nav_menu": {},
   "number_sections": true,
   "sideBar": true,
   "skip_h1_title": false,
   "title_cell": "Table of Contents",
   "title_sidebar": "Contents",
   "toc_cell": false,
   "toc_position": {},
   "toc_section_display": true,
   "toc_window_display": false
  },
  "varInspector": {
   "cols": {
    "lenName": 16,
    "lenType": 16,
    "lenVar": 40
   },
   "kernels_config": {
    "python": {
     "delete_cmd_postfix": "",
     "delete_cmd_prefix": "del ",
     "library": "var_list.py",
     "varRefreshCmd": "print(var_dic_list())"
    },
    "r": {
     "delete_cmd_postfix": ") ",
     "delete_cmd_prefix": "rm(",
     "library": "var_list.r",
     "varRefreshCmd": "cat(var_dic_list()) "
    }
   },
   "types_to_exclude": [
    "module",
    "function",
    "builtin_function_or_method",
    "instance",
    "_Feature"
   ],
   "window_display": false
  }
 },
 "nbformat": 4,
 "nbformat_minor": 5
}
