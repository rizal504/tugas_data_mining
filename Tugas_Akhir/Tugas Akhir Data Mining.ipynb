{
 "cells": [
  {
   "cell_type": "markdown",
   "id": "06e7de78",
   "metadata": {},
   "source": [
    "#### Tugas Akhir Data Mining \n",
    "#### \"Mengklasifikasi Data Penipuan Transaksi Menggunakan Kartu Kredit Dengan Metode Naive Bayes, K-NN,  dan Desision Tree\""
   ]
  },
  {
   "cell_type": "markdown",
   "id": "238b4c2f",
   "metadata": {},
   "source": [
    "##### Nama : Syaiful Rizal Sidiq\n",
    "##### NIM : A11.2021.13849\n",
    "##### Kelas : A11.4404"
   ]
  },
  {
   "cell_type": "markdown",
   "id": "ac3f80e5",
   "metadata": {},
   "source": [
    "#### Abstraksi\n",
    "\n",
    "Penipuan dalam transaksi kartu kredit merupakan masalah serius yang perlu ditangani. Masyarakat yang semakin banyak menggunakan kartu kredit membuat tingkat penipuan transaksi kartu kredit semakin meningkat. Experimen ini  menggunakan credit  card  fraud  dataset yang  terdiri  dari 999.999 ribu  data  yang  didapatkan  dari  Kaggle. Melihat itu Metode klasifikasi seperti Naive Bayes, K-NN, dan Decision Tree dapat digunakan untuk mengidentifikasi dan mencegah penipuan tersebut. Naive Bayes menggunakan probabilitas untuk mengklasifikasikan data, K-NN membandingkan transaksi dengan sampel terdekat, dan Decision Tree menggunakan serangkaian keputusan berbasis fitur. Tujuan hasil dari experimen ini yaitu menerapkan ketiga metode tersebut, sehingga perusahaan penerbit kartu kredit dapat membangun model klasifikasi yang akurat, sehingga harapanya dapat melawan penipuan, melindungi pemegang kartu, dan meminimalkan kerugian finansial. "
   ]
  },
  {
   "cell_type": "markdown",
   "id": "a707f7be",
   "metadata": {},
   "source": []
  },
  {
   "cell_type": "code",
   "execution_count": 5,
   "id": "ba1d4359",
   "metadata": {},
   "outputs": [],
   "source": [
    "#import Library \n",
    "import pandas as pd\n",
    "from sklearn.model_selection import train_test_split\n",
    "from sklearn.naive_bayes import GaussianNB\n",
    "from sklearn.tree import DecisionTreeClassifier\n",
    "from sklearn.metrics import classification_report, confusion_matrix\n",
    "import seaborn as sns\n",
    "import matplotlib.pyplot as plt\n",
    "from sklearn.metrics import accuracy_score, classification_report, confusion_matrix\n",
    "from sklearn.tree import DecisionTreeClassifier\n"
   ]
  },
  {
   "cell_type": "code",
   "execution_count": 35,
   "id": "4f28589e",
   "metadata": {},
   "outputs": [],
   "source": [
    "# Import dan Membaca dataset\n",
    "df = pd.read_csv(\"card_transdata.csv\")  "
   ]
  },
  {
   "cell_type": "code",
   "execution_count": 20,
   "id": "6598e68a",
   "metadata": {
    "scrolled": true
   },
   "outputs": [
    {
     "data": {
      "text/html": [
       "<div>\n",
       "<style scoped>\n",
       "    .dataframe tbody tr th:only-of-type {\n",
       "        vertical-align: middle;\n",
       "    }\n",
       "\n",
       "    .dataframe tbody tr th {\n",
       "        vertical-align: top;\n",
       "    }\n",
       "\n",
       "    .dataframe thead th {\n",
       "        text-align: right;\n",
       "    }\n",
       "</style>\n",
       "<table border=\"1\" class=\"dataframe\">\n",
       "  <thead>\n",
       "    <tr style=\"text-align: right;\">\n",
       "      <th></th>\n",
       "      <th>distance_from_home</th>\n",
       "      <th>distance_from_last_transaction</th>\n",
       "      <th>ratio_to_median_purchase_price</th>\n",
       "      <th>repeat_retailer</th>\n",
       "      <th>used_chip</th>\n",
       "      <th>used_pin_number</th>\n",
       "      <th>online_order</th>\n",
       "      <th>fraud</th>\n",
       "    </tr>\n",
       "  </thead>\n",
       "  <tbody>\n",
       "    <tr>\n",
       "      <th>0</th>\n",
       "      <td>2.131956e+15</td>\n",
       "      <td>5.637240e+14</td>\n",
       "      <td>6.358667e+15</td>\n",
       "      <td>1.0</td>\n",
       "      <td>0.0</td>\n",
       "      <td>0.0</td>\n",
       "      <td>1.0</td>\n",
       "      <td>1.0</td>\n",
       "    </tr>\n",
       "    <tr>\n",
       "      <th>1</th>\n",
       "      <td>3.803057e+16</td>\n",
       "      <td>6.724108e+15</td>\n",
       "      <td>1.872950e+16</td>\n",
       "      <td>1.0</td>\n",
       "      <td>0.0</td>\n",
       "      <td>0.0</td>\n",
       "      <td>1.0</td>\n",
       "      <td>1.0</td>\n",
       "    </tr>\n",
       "    <tr>\n",
       "      <th>2</th>\n",
       "      <td>1.569499e+16</td>\n",
       "      <td>1.759892e+16</td>\n",
       "      <td>8.556228e-01</td>\n",
       "      <td>1.0</td>\n",
       "      <td>0.0</td>\n",
       "      <td>0.0</td>\n",
       "      <td>1.0</td>\n",
       "      <td>1.0</td>\n",
       "    </tr>\n",
       "    <tr>\n",
       "      <th>3</th>\n",
       "      <td>2.671146e+16</td>\n",
       "      <td>1.552008e+16</td>\n",
       "      <td>4.603601e+15</td>\n",
       "      <td>1.0</td>\n",
       "      <td>1.0</td>\n",
       "      <td>0.0</td>\n",
       "      <td>1.0</td>\n",
       "      <td>1.0</td>\n",
       "    </tr>\n",
       "    <tr>\n",
       "      <th>4</th>\n",
       "      <td>1.066447e+16</td>\n",
       "      <td>1.565769e+16</td>\n",
       "      <td>4.886521e+15</td>\n",
       "      <td>1.0</td>\n",
       "      <td>0.0</td>\n",
       "      <td>0.0</td>\n",
       "      <td>1.0</td>\n",
       "      <td>1.0</td>\n",
       "    </tr>\n",
       "    <tr>\n",
       "      <th>5</th>\n",
       "      <td>2.530145e+15</td>\n",
       "      <td>3.689781e+16</td>\n",
       "      <td>8.297407e+15</td>\n",
       "      <td>1.0</td>\n",
       "      <td>0.0</td>\n",
       "      <td>0.0</td>\n",
       "      <td>1.0</td>\n",
       "      <td>1.0</td>\n",
       "    </tr>\n",
       "    <tr>\n",
       "      <th>6</th>\n",
       "      <td>2.112612e+15</td>\n",
       "      <td>2.719874e-01</td>\n",
       "      <td>6.081771e+15</td>\n",
       "      <td>1.0</td>\n",
       "      <td>0.0</td>\n",
       "      <td>0.0</td>\n",
       "      <td>1.0</td>\n",
       "      <td>1.0</td>\n",
       "    </tr>\n",
       "    <tr>\n",
       "      <th>7</th>\n",
       "      <td>1.513704e+16</td>\n",
       "      <td>5.340081e+15</td>\n",
       "      <td>1.171567e+15</td>\n",
       "      <td>1.0</td>\n",
       "      <td>0.0</td>\n",
       "      <td>0.0</td>\n",
       "      <td>1.0</td>\n",
       "      <td>1.0</td>\n",
       "    </tr>\n",
       "    <tr>\n",
       "      <th>8</th>\n",
       "      <td>9.598401e+15</td>\n",
       "      <td>4.545563e-01</td>\n",
       "      <td>6.084829e+15</td>\n",
       "      <td>1.0</td>\n",
       "      <td>0.0</td>\n",
       "      <td>0.0</td>\n",
       "      <td>1.0</td>\n",
       "      <td>1.0</td>\n",
       "    </tr>\n",
       "    <tr>\n",
       "      <th>9</th>\n",
       "      <td>2.254559e+16</td>\n",
       "      <td>3.539393e-01</td>\n",
       "      <td>4.095442e+16</td>\n",
       "      <td>1.0</td>\n",
       "      <td>0.0</td>\n",
       "      <td>0.0</td>\n",
       "      <td>1.0</td>\n",
       "      <td>1.0</td>\n",
       "    </tr>\n",
       "    <tr>\n",
       "      <th>10</th>\n",
       "      <td>3.351893e+15</td>\n",
       "      <td>1.114168e+16</td>\n",
       "      <td>9.824281e-02</td>\n",
       "      <td>1.0</td>\n",
       "      <td>0.0</td>\n",
       "      <td>0.0</td>\n",
       "      <td>1.0</td>\n",
       "      <td>1.0</td>\n",
       "    </tr>\n",
       "    <tr>\n",
       "      <th>11</th>\n",
       "      <td>4.332644e+15</td>\n",
       "      <td>2.052546e-01</td>\n",
       "      <td>4.250634e+15</td>\n",
       "      <td>1.0</td>\n",
       "      <td>0.0</td>\n",
       "      <td>0.0</td>\n",
       "      <td>1.0</td>\n",
       "      <td>1.0</td>\n",
       "    </tr>\n",
       "    <tr>\n",
       "      <th>12</th>\n",
       "      <td>1.115881e+16</td>\n",
       "      <td>1.702369e-01</td>\n",
       "      <td>4.127313e+15</td>\n",
       "      <td>0.0</td>\n",
       "      <td>0.0</td>\n",
       "      <td>0.0</td>\n",
       "      <td>0.0</td>\n",
       "      <td>1.0</td>\n",
       "    </tr>\n",
       "    <tr>\n",
       "      <th>13</th>\n",
       "      <td>5.793890e+16</td>\n",
       "      <td>2.758511e+16</td>\n",
       "      <td>5.085686e+15</td>\n",
       "      <td>1.0</td>\n",
       "      <td>0.0</td>\n",
       "      <td>0.0</td>\n",
       "      <td>1.0</td>\n",
       "      <td>1.0</td>\n",
       "    </tr>\n",
       "    <tr>\n",
       "      <th>14</th>\n",
       "      <td>2.264196e+15</td>\n",
       "      <td>1.562516e-02</td>\n",
       "      <td>4.322207e+15</td>\n",
       "      <td>1.0</td>\n",
       "      <td>0.0</td>\n",
       "      <td>0.0</td>\n",
       "      <td>1.0</td>\n",
       "      <td>1.0</td>\n",
       "    </tr>\n",
       "  </tbody>\n",
       "</table>\n",
       "</div>"
      ],
      "text/plain": [
       "    distance_from_home  distance_from_last_transaction  \\\n",
       "0         2.131956e+15                    5.637240e+14   \n",
       "1         3.803057e+16                    6.724108e+15   \n",
       "2         1.569499e+16                    1.759892e+16   \n",
       "3         2.671146e+16                    1.552008e+16   \n",
       "4         1.066447e+16                    1.565769e+16   \n",
       "5         2.530145e+15                    3.689781e+16   \n",
       "6         2.112612e+15                    2.719874e-01   \n",
       "7         1.513704e+16                    5.340081e+15   \n",
       "8         9.598401e+15                    4.545563e-01   \n",
       "9         2.254559e+16                    3.539393e-01   \n",
       "10        3.351893e+15                    1.114168e+16   \n",
       "11        4.332644e+15                    2.052546e-01   \n",
       "12        1.115881e+16                    1.702369e-01   \n",
       "13        5.793890e+16                    2.758511e+16   \n",
       "14        2.264196e+15                    1.562516e-02   \n",
       "\n",
       "    ratio_to_median_purchase_price  repeat_retailer  used_chip  \\\n",
       "0                     6.358667e+15              1.0        0.0   \n",
       "1                     1.872950e+16              1.0        0.0   \n",
       "2                     8.556228e-01              1.0        0.0   \n",
       "3                     4.603601e+15              1.0        1.0   \n",
       "4                     4.886521e+15              1.0        0.0   \n",
       "5                     8.297407e+15              1.0        0.0   \n",
       "6                     6.081771e+15              1.0        0.0   \n",
       "7                     1.171567e+15              1.0        0.0   \n",
       "8                     6.084829e+15              1.0        0.0   \n",
       "9                     4.095442e+16              1.0        0.0   \n",
       "10                    9.824281e-02              1.0        0.0   \n",
       "11                    4.250634e+15              1.0        0.0   \n",
       "12                    4.127313e+15              0.0        0.0   \n",
       "13                    5.085686e+15              1.0        0.0   \n",
       "14                    4.322207e+15              1.0        0.0   \n",
       "\n",
       "    used_pin_number  online_order  fraud  \n",
       "0               0.0           1.0    1.0  \n",
       "1               0.0           1.0    1.0  \n",
       "2               0.0           1.0    1.0  \n",
       "3               0.0           1.0    1.0  \n",
       "4               0.0           1.0    1.0  \n",
       "5               0.0           1.0    1.0  \n",
       "6               0.0           1.0    1.0  \n",
       "7               0.0           1.0    1.0  \n",
       "8               0.0           1.0    1.0  \n",
       "9               0.0           1.0    1.0  \n",
       "10              0.0           1.0    1.0  \n",
       "11              0.0           1.0    1.0  \n",
       "12              0.0           0.0    1.0  \n",
       "13              0.0           1.0    1.0  \n",
       "14              0.0           1.0    1.0  "
      ]
     },
     "execution_count": 20,
     "metadata": {},
     "output_type": "execute_result"
    }
   ],
   "source": [
    "#Menampilkan dataset 5 teratas\n",
    "df.head(15)"
   ]
  },
  {
   "cell_type": "markdown",
   "id": "660065d8",
   "metadata": {},
   "source": [
    "### Data Preparation\n",
    "\n",
    "Data  preparation merupakan  proses  untuk  memperbaiki  permasalahan  yang  terdapat dalam  data dengan  mengolah  data dari credit  card  fraud dataset sebanyak  999.999  dengan  8  atribut.  Proses  ini dilakukan  untuk  membuat  data  lebih  baik  dan  lebih  layak  sebelum  diolah  dengan  algoritma.  Pada tahapan ini juga meliputi beberapa proses diantaranya:\n",
    "\n",
    "•Pemilihan  data: Proses ini dilakukan dengan  cara menyeleksi  beberapa  atribut  yang  akan digunakan  sebagai  pemodelan. Atribut  yang  digunakan  yaitu  atribut  V1 sampai V28  dan class. Atribut class yang bernilai 0 jumlah data akan disamakan dengan jumlah data yang bernilai 1.\n",
    "\n",
    "•Pembersihan data: Data awalnya sejumlah 999.999 record di cek apakah masih ada missing value. Apabila ada maka perlu dilakukan   proses cleansing yaitu   apabila   ada missing   value,   maka   data missing   value akan dihilangkan, sehingga mengurangi jumlah data awal.\n",
    "\n",
    "•Transformasi data: Tahapan  ini  menyederhanakan  atribut  pada  data  sehingga  menghasilkan atribut yang baru.\n",
    "\n",
    "Deployment: Proses ini  melakukan dengan  cara  menyajikan  hasil  penelitian melalui GUI dan  memberikan rekomendasi  atau  menggabungkan  suatu  keputusan  dalam  sistem  terhadap objek penelitian agar dapat memberikan saran perbaikan untuk masa yang akan datang."
   ]
  },
  {
   "cell_type": "markdown",
   "id": "0d9048fa",
   "metadata": {},
   "source": [
    "#### Mengecek apakah ada atribut yang missing value\n",
    "\n",
    "Proses mengecek data pada setiap atribut yang memiliki missing value kemudian menjumlahkannya"
   ]
  },
  {
   "cell_type": "code",
   "execution_count": 21,
   "id": "8b84a26a",
   "metadata": {},
   "outputs": [
    {
     "data": {
      "text/plain": [
       "distance_from_home                0\n",
       "distance_from_last_transaction    0\n",
       "ratio_to_median_purchase_price    0\n",
       "repeat_retailer                   0\n",
       "used_chip                         0\n",
       "used_pin_number                   0\n",
       "online_order                      0\n",
       "fraud                             0\n",
       "dtype: int64"
      ]
     },
     "execution_count": 21,
     "metadata": {},
     "output_type": "execute_result"
    }
   ],
   "source": [
    "df.isnull().sum()"
   ]
  },
  {
   "cell_type": "markdown",
   "id": "60d89e4f",
   "metadata": {},
   "source": [
    "Dari pengecekan diatas tidak terdapat atribut yang memiliki missing value, maka proses pembersihan data selesai"
   ]
  },
  {
   "cell_type": "markdown",
   "id": "71063a1f",
   "metadata": {},
   "source": [
    "### Memisahkan fitur dan label\n",
    "\n",
    "Dalam proses pemisahan fitur dan label tujuannya adalah untuk mengidentifikasi atribut-atribut yang relevan dan signifikan dalam mempengaruhi nilai target."
   ]
  },
  {
   "cell_type": "code",
   "execution_count": 22,
   "id": "d605a438",
   "metadata": {},
   "outputs": [],
   "source": [
    "X = df.drop(\"fraud\", axis=1)\n",
    "y = df[\"fraud\"]"
   ]
  },
  {
   "cell_type": "code",
   "execution_count": 23,
   "id": "e80a97cb",
   "metadata": {
    "scrolled": false
   },
   "outputs": [
    {
     "name": "stdout",
     "output_type": "stream",
     "text": [
      "      distance_from_home  distance_from_last_transaction  \\\n",
      "0           2.131956e+15                    5.637240e+14   \n",
      "1           3.803057e+16                    6.724108e+15   \n",
      "2           1.569499e+16                    1.759892e+16   \n",
      "3           2.671146e+16                    1.552008e+16   \n",
      "4           1.066447e+16                    1.565769e+16   \n",
      "...                  ...                             ...   \n",
      "3996        2.864513e+16                    2.594485e-01   \n",
      "3997        4.943089e+15                    4.653132e-02   \n",
      "3998        3.960961e+16                    1.221264e+16   \n",
      "3999        3.205447e+15                    1.414451e+16   \n",
      "4000        7.955544e+15                    1.972083e-01   \n",
      "\n",
      "      ratio_to_median_purchase_price  repeat_retailer  used_chip  \\\n",
      "0                       6.358667e+15              1.0        0.0   \n",
      "1                       1.872950e+16              1.0        0.0   \n",
      "2                       8.556228e-01              1.0        0.0   \n",
      "3                       4.603601e+15              1.0        1.0   \n",
      "4                       4.886521e+15              1.0        0.0   \n",
      "...                              ...              ...        ...   \n",
      "3996                    1.469424e+15              1.0        0.0   \n",
      "3997                    2.303862e-01              1.0        0.0   \n",
      "3998                    1.687475e-01              1.0        0.0   \n",
      "3999                    2.220830e-01              1.0        0.0   \n",
      "4000                    8.004017e-01              1.0        0.0   \n",
      "\n",
      "      used_pin_number  online_order  \n",
      "0                 0.0           1.0  \n",
      "1                 0.0           1.0  \n",
      "2                 0.0           1.0  \n",
      "3                 0.0           1.0  \n",
      "4                 0.0           1.0  \n",
      "...               ...           ...  \n",
      "3996              1.0           1.0  \n",
      "3997              0.0           1.0  \n",
      "3998              0.0           1.0  \n",
      "3999              0.0           1.0  \n",
      "4000              0.0           1.0  \n",
      "\n",
      "[4001 rows x 7 columns]\n"
     ]
    }
   ],
   "source": [
    "print(X)"
   ]
  },
  {
   "cell_type": "markdown",
   "id": "1cfba3f7",
   "metadata": {},
   "source": [
    "#### Filter data\n",
    "\n",
    "Memfilter data yang termasuk kedalam transaksi penipuan atau tidak "
   ]
  },
  {
   "cell_type": "code",
   "execution_count": 24,
   "id": "182c0bbe",
   "metadata": {},
   "outputs": [
    {
     "data": {
      "text/plain": [
       "(2001, 8)"
      ]
     },
     "execution_count": 24,
     "metadata": {},
     "output_type": "execute_result"
    }
   ],
   "source": [
    "#filter data hanya untuk yang tidak terkena penipuan = 0\n",
    "df[df[\"fraud\"]==0].shape"
   ]
  },
  {
   "cell_type": "code",
   "execution_count": 25,
   "id": "0cff2a4b",
   "metadata": {},
   "outputs": [
    {
     "data": {
      "text/plain": [
       "(2000, 8)"
      ]
     },
     "execution_count": 25,
     "metadata": {},
     "output_type": "execute_result"
    }
   ],
   "source": [
    "#filter data hanya untuk yang terkena penipuan =1\n",
    "df[df[\"fraud\"]==1].shape"
   ]
  },
  {
   "cell_type": "markdown",
   "id": "b912e13b",
   "metadata": {},
   "source": [
    "setelah dilakukakan filerisasi pada label terdapat  912.597 data yang tidak terkenan penipuan dan 87.403 data yang terkena penipuan.\n",
    "\n",
    "karena datanya tidak seimbang antara yang terkena penipuan dan yang tidak terkenan penipuan maka dilakukan undersampling mengatasi masalah bias yang mungkin timbul akibat perbedaan jumlah sampel dalam setiap kelas. Undersampling melibatkan pengurangan sampel dari kelas mayoritas sehingga jumlah sampel dalam setiap kelas menjadi lebih seimbang. Ini dapat dilakukan dengan cara menghapus sebagian sampel dari kelas mayoritas."
   ]
  },
  {
   "cell_type": "markdown",
   "id": "4a34ae0a",
   "metadata": {},
   "source": [
    "### Mengklasifikasi menggunakan dengan Naive Bayes\n",
    "\n",
    "Experimen klasifikasi menggunakan algoritma Naive Bayes Gaussian. Experimen membantu dalam melatih model, melakukan prediksi, dan mengevaluasi performa model dengan menggunakan metrik evaluasi seperti akurasi, presisi, recall, dan f1-score. Pada Klasifikasi ini saya lakukan 3 kali percobaan dengan menggunakan data testing (data uji)  sebesar 20%, 30%, dan 40%\n",
    "\n"
   ]
  },
  {
   "cell_type": "code",
   "execution_count": 26,
   "id": "ffb3138c",
   "metadata": {},
   "outputs": [
    {
     "name": "stdout",
     "output_type": "stream",
     "text": [
      "Accuracy: 0.6891385767790262\n",
      "Classification Report:\n",
      "               precision    recall  f1-score   support\n",
      "\n",
      "         0.0       0.63      0.85      0.72       379\n",
      "         1.0       0.81      0.54      0.65       422\n",
      "\n",
      "    accuracy                           0.69       801\n",
      "   macro avg       0.72      0.70      0.68       801\n",
      "weighted avg       0.72      0.69      0.68       801\n",
      "\n",
      "Confusion Matrix:\n",
      " [[324  55]\n",
      " [194 228]]\n"
     ]
    },
    {
     "name": "stderr",
     "output_type": "stream",
     "text": [
      "C:\\ProgramData\\Anaconda3\\lib\\site-packages\\sklearn\\neighbors\\_classification.py:228: FutureWarning: Unlike other reduction functions (e.g. `skew`, `kurtosis`), the default behavior of `mode` typically preserves the axis it acts along. In SciPy 1.11.0, this behavior will change: the default value of `keepdims` will become False, the `axis` over which the statistic is taken will be eliminated, and the value None will no longer be accepted. Set `keepdims` to True or False to avoid this warning.\n",
      "  mode, _ = stats.mode(_y[neigh_ind, k], axis=1)\n"
     ]
    }
   ],
   "source": [
    "from sklearn.neighbors import KNeighborsClassifier\n",
    "from sklearn.model_selection import train_test_split\n",
    "from sklearn.metrics import accuracy_score, classification_report, confusion_matrix\n",
    "\n",
    "# Membagi dataset menjadi data latih dan data uji\n",
    "X_train, X_test, y_train, y_test = train_test_split(X, y, test_size=0.2, random_state=42)\n",
    "\n",
    "# Membuat objek klasifikasi K-Nearest Neighbors\n",
    "model_KNN = KNeighborsClassifier(n_neighbors=2)\n",
    "\n",
    "# Melatih model dengan data latih\n",
    "model_KNN.fit(X_train, y_train)\n",
    "\n",
    "# Memprediksi label untuk data uji\n",
    "y_pred = model_KNN.predict(X_test)\n",
    "\n",
    "# Evaluasi model\n",
    "accuracy = accuracy_score(y_test, y_pred)\n",
    "report = classification_report(y_test, y_pred)\n",
    "confusion_mat = confusion_matrix(y_test, y_pred)\n",
    "\n",
    "print(\"Accuracy:\", accuracy)\n",
    "print(\"Classification Report:\\n\", report)\n",
    "print(\"Confusion Matrix:\\n\", confusion_mat)"
   ]
  },
  {
   "cell_type": "code",
   "execution_count": 27,
   "id": "9ba4083e",
   "metadata": {},
   "outputs": [
    {
     "ename": "NameError",
     "evalue": "name 'X_train_undersampled' is not defined",
     "output_type": "error",
     "traceback": [
      "\u001b[1;31m---------------------------------------------------------------------------\u001b[0m",
      "\u001b[1;31mNameError\u001b[0m                                 Traceback (most recent call last)",
      "\u001b[1;32m~\\AppData\\Local\\Temp\\ipykernel_21324\\3227215392.py\u001b[0m in \u001b[0;36m<module>\u001b[1;34m\u001b[0m\n\u001b[0;32m      9\u001b[0m \u001b[1;33m\u001b[0m\u001b[0m\n\u001b[0;32m     10\u001b[0m \u001b[1;31m# Melatih model dengan data latih yang telah diundersample\u001b[0m\u001b[1;33m\u001b[0m\u001b[1;33m\u001b[0m\u001b[0m\n\u001b[1;32m---> 11\u001b[1;33m \u001b[0mnb_classifier\u001b[0m\u001b[1;33m.\u001b[0m\u001b[0mfit\u001b[0m\u001b[1;33m(\u001b[0m\u001b[0mX_train_undersampled\u001b[0m\u001b[1;33m,\u001b[0m \u001b[0my_train_undersampled\u001b[0m\u001b[1;33m)\u001b[0m\u001b[1;33m\u001b[0m\u001b[1;33m\u001b[0m\u001b[0m\n\u001b[0m\u001b[0;32m     12\u001b[0m \u001b[1;33m\u001b[0m\u001b[0m\n\u001b[0;32m     13\u001b[0m \u001b[1;31m# Mengaplikasikan undersampling menggunakan NearMiss\u001b[0m\u001b[1;33m\u001b[0m\u001b[1;33m\u001b[0m\u001b[0m\n",
      "\u001b[1;31mNameError\u001b[0m: name 'X_train_undersampled' is not defined"
     ]
    }
   ],
   "source": [
    "from imblearn.under_sampling import NearMiss\n",
    "\n",
    "\n",
    "# Membagi dataset menjadi data latih dan data uji\n",
    "X_train, X_test, y_train, y_test = train_test_split(X, y, test_size=0.3, random_state=42)\n",
    "\n",
    "# Membuat objek klasifikasi Naive Bayes\n",
    "nb_classifier = GaussianNB()\n",
    "\n",
    "# Melatih model dengan data latih yang telah diundersample\n",
    "nb_classifier.fit(X_train_undersampled, y_train_undersampled)\n",
    "\n",
    "# Mengaplikasikan undersampling menggunakan NearMiss\n",
    "undersampler = NearMiss()\n",
    "X_train_undersampled, y_train_undersampled = undersampler.fit_resample(X_train, y_train)\n",
    "\n",
    "# Memprediksi label untuk data uji\n",
    "y_pred = nb_classifier.predict(X_test)\n",
    "\n",
    "# Evaluasi model\n",
    "accuracy = accuracy_score(y_test, y_pred)\n",
    "report = classification_report(y_test, y_pred)\n",
    "confusion_mat = confusion_matrix(y_test, y_pred)\n",
    "\n",
    "\n",
    "print(\"Accuracy:\", accuracy)\n",
    "print(\"Classification Report:\\n\", report)\n",
    "print(\"Confusion Matrix:\\n\", confusion_mat)"
   ]
  },
  {
   "cell_type": "code",
   "execution_count": 28,
   "id": "ca0f618a",
   "metadata": {},
   "outputs": [
    {
     "ename": "NameError",
     "evalue": "name 'X_train_undersampled' is not defined",
     "output_type": "error",
     "traceback": [
      "\u001b[1;31m---------------------------------------------------------------------------\u001b[0m",
      "\u001b[1;31mNameError\u001b[0m                                 Traceback (most recent call last)",
      "\u001b[1;32m~\\AppData\\Local\\Temp\\ipykernel_21324\\3086644762.py\u001b[0m in \u001b[0;36m<module>\u001b[1;34m\u001b[0m\n\u001b[0;32m      8\u001b[0m \u001b[1;33m\u001b[0m\u001b[0m\n\u001b[0;32m      9\u001b[0m \u001b[1;31m# Melatih model dengan data latih yang telah diundersample\u001b[0m\u001b[1;33m\u001b[0m\u001b[1;33m\u001b[0m\u001b[0m\n\u001b[1;32m---> 10\u001b[1;33m \u001b[0mnb_classifier\u001b[0m\u001b[1;33m.\u001b[0m\u001b[0mfit\u001b[0m\u001b[1;33m(\u001b[0m\u001b[0mX_train_undersampled\u001b[0m\u001b[1;33m,\u001b[0m \u001b[0my_train_undersampled\u001b[0m\u001b[1;33m)\u001b[0m\u001b[1;33m\u001b[0m\u001b[1;33m\u001b[0m\u001b[0m\n\u001b[0m\u001b[0;32m     11\u001b[0m \u001b[1;33m\u001b[0m\u001b[0m\n\u001b[0;32m     12\u001b[0m \u001b[1;31m# Mengaplikasikan undersampling menggunakan NearMiss\u001b[0m\u001b[1;33m\u001b[0m\u001b[1;33m\u001b[0m\u001b[0m\n",
      "\u001b[1;31mNameError\u001b[0m: name 'X_train_undersampled' is not defined"
     ]
    }
   ],
   "source": [
    "from imblearn.under_sampling import NearMiss\n",
    "\n",
    "# Membagi dataset menjadi data latih dan data uji\n",
    "X_train, X_test, y_train, y_test = train_test_split(X, y, test_size=0.4, random_state=42)\n",
    "\n",
    "# Membuat objek klasifikasi Naive Bayes\n",
    "nb_classifier = GaussianNB()\n",
    "\n",
    "# Melatih model dengan data latih yang telah diundersample\n",
    "nb_classifier.fit(X_train_undersampled, y_train_undersampled)\n",
    "\n",
    "# Mengaplikasikan undersampling menggunakan NearMiss\n",
    "undersampler = NearMiss()\n",
    "X_train_undersampled, y_train_undersampled = undersampler.fit_resample(X_train, y_train)\n",
    "\n",
    "# Memprediksi label untuk data uji\n",
    "y_pred = nb_classifier.predict(X_test)\n",
    "\n",
    "# Evaluasi model\n",
    "accuracy = accuracy_score(y_test, y_pred)\n",
    "report = classification_report(y_test, y_pred)\n",
    "confusion_mat = confusion_matrix(y_test, y_pred)\n",
    "\n",
    "\n",
    "print(\"Accuracy:\", accuracy)\n",
    "print(\"Classification Report:\\n\", report)\n",
    "print(\"Confusion Matrix:\\n\", confusion_mat)"
   ]
  },
  {
   "cell_type": "code",
   "execution_count": 29,
   "id": "8e8c396e",
   "metadata": {},
   "outputs": [
    {
     "name": "stdout",
     "output_type": "stream",
     "text": [
      "Accuracy: 0.7827715355805244\n",
      "Classification Report:\n",
      "               precision    recall  f1-score   support\n",
      "\n",
      "         0.0       0.75      0.81      0.78       379\n",
      "         1.0       0.82      0.76      0.79       422\n",
      "\n",
      "    accuracy                           0.78       801\n",
      "   macro avg       0.78      0.78      0.78       801\n",
      "weighted avg       0.79      0.78      0.78       801\n",
      "\n",
      "Confusion Matrix:\n",
      " [[307  72]\n",
      " [102 320]]\n"
     ]
    }
   ],
   "source": [
    "# Membagi dataset menjadi data latih dan data uji\n",
    "X_train, X_test, y_train, y_test = train_test_split(X, y, test_size=0.2, random_state=42)\n",
    "\n",
    "# Membuat objek klasifikasi Decision Tree\n",
    "dt_classifier = DecisionTreeClassifier()\n",
    "\n",
    "# Melatih model dengan data latih\n",
    "dt_classifier.fit(X_train, y_train)\n",
    "\n",
    "# Memprediksi label untuk data uji\n",
    "y_pred = dt_classifier.predict(X_test)\n",
    "\n",
    "# Evaluasi model\n",
    "accuracy = accuracy_score(y_test, y_pred)\n",
    "report = classification_report(y_test, y_pred)\n",
    "confusion_mat = confusion_matrix(y_test, y_pred)\n",
    "\n",
    "print(\"Accuracy:\", accuracy)\n",
    "print(\"Classification Report:\\n\", report)\n",
    "print(\"Confusion Matrix:\\n\", confusion_mat)\n"
   ]
  },
  {
   "cell_type": "code",
   "execution_count": 30,
   "id": "904e9a5f",
   "metadata": {
    "scrolled": true
   },
   "outputs": [
    {
     "name": "stdout",
     "output_type": "stream",
     "text": [
      "Accuracy: 0.6891385767790262\n",
      "Classification Report:\n",
      "               precision    recall  f1-score   support\n",
      "\n",
      "         0.0       0.63      0.85      0.72       379\n",
      "         1.0       0.81      0.54      0.65       422\n",
      "\n",
      "    accuracy                           0.69       801\n",
      "   macro avg       0.72      0.70      0.68       801\n",
      "weighted avg       0.72      0.69      0.68       801\n",
      "\n",
      "Confusion Matrix:\n",
      " [[324  55]\n",
      " [194 228]]\n"
     ]
    },
    {
     "name": "stderr",
     "output_type": "stream",
     "text": [
      "C:\\ProgramData\\Anaconda3\\lib\\site-packages\\sklearn\\neighbors\\_classification.py:228: FutureWarning: Unlike other reduction functions (e.g. `skew`, `kurtosis`), the default behavior of `mode` typically preserves the axis it acts along. In SciPy 1.11.0, this behavior will change: the default value of `keepdims` will become False, the `axis` over which the statistic is taken will be eliminated, and the value None will no longer be accepted. Set `keepdims` to True or False to avoid this warning.\n",
      "  mode, _ = stats.mode(_y[neigh_ind, k], axis=1)\n"
     ]
    }
   ],
   "source": [
    "from sklearn.neighbors import KNeighborsClassifier\n",
    "from sklearn.model_selection import train_test_split\n",
    "from sklearn.metrics import accuracy_score, classification_report, confusion_matrix\n",
    "\n",
    "# Membagi dataset menjadi data latih dan data uji\n",
    "X_train, X_test, y_train, y_test = train_test_split(X, y, test_size=0.2, random_state=42)\n",
    "\n",
    "# Membuat objek klasifikasi K-Nearest Neighbors\n",
    "model_KNN = KNeighborsClassifier(n_neighbors=2)\n",
    "\n",
    "# Melatih model dengan data latih\n",
    "model_KNN.fit(X_train, y_train)\n",
    "\n",
    "# Memprediksi label untuk data uji\n",
    "y_pred = model_KNN.predict(X_test)\n",
    "\n",
    "# Evaluasi model\n",
    "accuracy = accuracy_score(y_test, y_pred)\n",
    "report = classification_report(y_test, y_pred)\n",
    "confusion_mat = confusion_matrix(y_test, y_pred)\n",
    "\n",
    "print(\"Accuracy:\", accuracy)\n",
    "print(\"Classification Report:\\n\", report)\n",
    "print(\"Confusion Matrix:\\n\", confusion_mat)"
   ]
  },
  {
   "cell_type": "code",
   "execution_count": 31,
   "id": "757b8d70",
   "metadata": {},
   "outputs": [
    {
     "name": "stdout",
     "output_type": "stream",
     "text": [
      "Requirement already satisfied: imbalanced-learn in c:\\programdata\\anaconda3\\lib\\site-packages (0.10.1)\n",
      "Requirement already satisfied: scikit-learn>=1.0.2 in c:\\programdata\\anaconda3\\lib\\site-packages (from imbalanced-learn) (1.0.2)\n",
      "Requirement already satisfied: joblib>=1.1.1 in c:\\programdata\\anaconda3\\lib\\site-packages (from imbalanced-learn) (1.2.0)\n",
      "Requirement already satisfied: numpy>=1.17.3 in c:\\programdata\\anaconda3\\lib\\site-packages (from imbalanced-learn) (1.21.5)\n",
      "Requirement already satisfied: threadpoolctl>=2.0.0 in c:\\programdata\\anaconda3\\lib\\site-packages (from imbalanced-learn) (2.2.0)\n",
      "Requirement already satisfied: scipy>=1.3.2 in c:\\programdata\\anaconda3\\lib\\site-packages (from imbalanced-learn) (1.9.1)\n",
      "Note: you may need to restart the kernel to use updated packages.\n"
     ]
    }
   ],
   "source": [
    "pip install imbalanced-learn"
   ]
  },
  {
   "cell_type": "code",
   "execution_count": 32,
   "id": "a80006cb",
   "metadata": {},
   "outputs": [
    {
     "name": "stdout",
     "output_type": "stream",
     "text": [
      "Accuracy: 0.700374531835206\n",
      "Classification Report:\n",
      "               precision    recall  f1-score   support\n",
      "\n",
      "         0.0       0.68      0.71      0.69       379\n",
      "         1.0       0.73      0.69      0.71       422\n",
      "\n",
      "    accuracy                           0.70       801\n",
      "   macro avg       0.70      0.70      0.70       801\n",
      "weighted avg       0.70      0.70      0.70       801\n",
      "\n",
      "Confusion Matrix:\n",
      " [[268 111]\n",
      " [129 293]]\n"
     ]
    },
    {
     "name": "stderr",
     "output_type": "stream",
     "text": [
      "C:\\ProgramData\\Anaconda3\\lib\\site-packages\\sklearn\\neighbors\\_classification.py:228: FutureWarning: Unlike other reduction functions (e.g. `skew`, `kurtosis`), the default behavior of `mode` typically preserves the axis it acts along. In SciPy 1.11.0, this behavior will change: the default value of `keepdims` will become False, the `axis` over which the statistic is taken will be eliminated, and the value None will no longer be accepted. Set `keepdims` to True or False to avoid this warning.\n",
      "  mode, _ = stats.mode(_y[neigh_ind, k], axis=1)\n"
     ]
    }
   ],
   "source": [
    "from sklearn.neighbors import KNeighborsClassifier\n",
    "from sklearn.model_selection import train_test_split\n",
    "from sklearn.metrics import accuracy_score, classification_report, confusion_matrix\n",
    "from imblearn.under_sampling import NearMiss\n",
    "\n",
    "# Membagi dataset menjadi data latih dan data uji\n",
    "X_train, X_test, y_train, y_test = train_test_split(X, y, test_size=0.2, random_state=42)\n",
    "\n",
    "# Mengaplikasikan undersampling menggunakan NearMiss\n",
    "undersampler = NearMiss()\n",
    "X_train_undersampled, y_train_undersampled = undersampler.fit_resample(X_train, y_train)\n",
    "\n",
    "# Membuat objek klasifikasi K-Nearest Neighbors\n",
    "model_KNN = KNeighborsClassifier(n_neighbors=3)\n",
    "\n",
    "# Melatih model dengan data latih yang telah diundersample\n",
    "model_KNN.fit(X_train_undersampled, y_train_undersampled)\n",
    "\n",
    "# Memprediksi label untuk data uji\n",
    "y_pred = model_KNN.predict(X_test)\n",
    "\n",
    "# Evaluasi model\n",
    "accuracy = accuracy_score(y_test, y_pred)\n",
    "report = classification_report(y_test, y_pred)\n",
    "confusion_mat = confusion_matrix(y_test, y_pred)\n",
    "\n",
    "print(\"Accuracy:\", accuracy)\n",
    "print(\"Classification Report:\\n\", report)\n",
    "print(\"Confusion Matrix:\\n\", confusion_mat)"
   ]
  },
  {
   "cell_type": "code",
   "execution_count": 33,
   "id": "8a8cdeb6",
   "metadata": {},
   "outputs": [
    {
     "name": "stdout",
     "output_type": "stream",
     "text": [
      "Accuracy: 0.6978776529338327\n",
      "Classification Report:\n",
      "               precision    recall  f1-score   support\n",
      "\n",
      "         0.0       0.67      0.70      0.69       379\n",
      "         1.0       0.72      0.69      0.71       422\n",
      "\n",
      "    accuracy                           0.70       801\n",
      "   macro avg       0.70      0.70      0.70       801\n",
      "weighted avg       0.70      0.70      0.70       801\n",
      "\n",
      "Confusion Matrix:\n",
      " [[267 112]\n",
      " [130 292]]\n"
     ]
    },
    {
     "name": "stderr",
     "output_type": "stream",
     "text": [
      "C:\\ProgramData\\Anaconda3\\lib\\site-packages\\sklearn\\neighbors\\_classification.py:228: FutureWarning: Unlike other reduction functions (e.g. `skew`, `kurtosis`), the default behavior of `mode` typically preserves the axis it acts along. In SciPy 1.11.0, this behavior will change: the default value of `keepdims` will become False, the `axis` over which the statistic is taken will be eliminated, and the value None will no longer be accepted. Set `keepdims` to True or False to avoid this warning.\n",
      "  mode, _ = stats.mode(_y[neigh_ind, k], axis=1)\n"
     ]
    }
   ],
   "source": [
    "from sklearn.neighbors import KNeighborsClassifier\n",
    "from sklearn.model_selection import train_test_split\n",
    "from sklearn.metrics import accuracy_score, classification_report, confusion_matrix\n",
    "from imblearn.over_sampling import SMOTE\n",
    "\n",
    "# Membagi dataset menjadi data latih dan data uji\n",
    "X_train, X_test, y_train, y_test = train_test_split(X, y, test_size=0.2, random_state=42)\n",
    "\n",
    "# Mengaplikasikan oversampling menggunakan SMOTE\n",
    "oversampler = SMOTE()\n",
    "X_train_oversampled, y_train_oversampled = oversampler.fit_resample(X_train, y_train)\n",
    "\n",
    "# Membuat objek klasifikasi K-Nearest Neighbors\n",
    "model_KNN = KNeighborsClassifier(n_neighbors=3)\n",
    "\n",
    "# Melatih model dengan data latih yang telah dioversample\n",
    "model_KNN.fit(X_train_oversampled, y_train_oversampled)\n",
    "\n",
    "# Memprediksi label untuk data uji\n",
    "y_pred = model_KNN.predict(X_test)\n",
    "\n",
    "# Evaluasi model\n",
    "accuracy = accuracy_score(y_test, y_pred)\n",
    "report = classification_report(y_test, y_pred)\n",
    "confusion_mat = confusion_matrix(y_test, y_pred)\n",
    "\n",
    "print(\"Accuracy:\", accuracy)\n",
    "print(\"Classification Report:\\n\", report)\n",
    "print(\"Confusion Matrix:\\n\", confusion_mat)\n"
   ]
  },
  {
   "cell_type": "code",
   "execution_count": null,
   "id": "de472d35",
   "metadata": {},
   "outputs": [],
   "source": []
  },
  {
   "cell_type": "code",
   "execution_count": null,
   "id": "88168406",
   "metadata": {},
   "outputs": [],
   "source": []
  },
  {
   "cell_type": "code",
   "execution_count": null,
   "id": "5abe8efe",
   "metadata": {},
   "outputs": [],
   "source": []
  }
 ],
 "metadata": {
  "kernelspec": {
   "display_name": "Python 3 (ipykernel)",
   "language": "python",
   "name": "python3"
  },
  "language_info": {
   "codemirror_mode": {
    "name": "ipython",
    "version": 3
   },
   "file_extension": ".py",
   "mimetype": "text/x-python",
   "name": "python",
   "nbconvert_exporter": "python",
   "pygments_lexer": "ipython3",
   "version": "3.9.13"
  },
  "varInspector": {
   "cols": {
    "lenName": 16,
    "lenType": 16,
    "lenVar": 40
   },
   "kernels_config": {
    "python": {
     "delete_cmd_postfix": "",
     "delete_cmd_prefix": "del ",
     "library": "var_list.py",
     "varRefreshCmd": "print(var_dic_list())"
    },
    "r": {
     "delete_cmd_postfix": ") ",
     "delete_cmd_prefix": "rm(",
     "library": "var_list.r",
     "varRefreshCmd": "cat(var_dic_list()) "
    }
   },
   "types_to_exclude": [
    "module",
    "function",
    "builtin_function_or_method",
    "instance",
    "_Feature"
   ],
   "window_display": false
  }
 },
 "nbformat": 4,
 "nbformat_minor": 5
}
